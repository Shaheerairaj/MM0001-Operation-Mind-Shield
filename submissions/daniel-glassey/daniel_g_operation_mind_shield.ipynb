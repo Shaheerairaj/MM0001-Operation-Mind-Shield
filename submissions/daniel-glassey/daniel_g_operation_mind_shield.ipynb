{
  "cells": [
    {
      "cell_type": "markdown",
      "metadata": {
        "id": "view-in-github",
        "colab_type": "text"
      },
      "source": [
        "<a href=\"https://colab.research.google.com/github/glasseyes/MM0001-Operation-Mind-Shield/blob/main/submissions/daniel-glassey/daniel_g_operation_mind_shield.ipynb\" target=\"_parent\"><img src=\"https://colab.research.google.com/assets/colab-badge.svg\" alt=\"Open In Colab\"/></a>"
      ]
    },
    {
      "cell_type": "markdown",
      "metadata": {
        "id": "i5x4kclUXBPk"
      },
      "source": [
        "# 🧠 Operation Mind Shield: Decoding Alzheimer's\n",
        "#### **Full Name:** Daniel Glassey\n",
        "#### **Link to SDS Profile:** https://community.superdatascience.com/u/140115de"
      ]
    },
    {
      "cell_type": "markdown",
      "source": [
        "@misc{rabie_el_kharoua_2024,\n",
        "  title={Alzheimer's Disease Dataset},\n",
        "  url={https://www.kaggle.com/dsv/8668279},\n",
        "  DOI={10.34740/KAGGLE/DSV/8668279},\n",
        "  publisher={Kaggle},\n",
        "  author={Rabie El Kharoua},\n",
        "  year={2024}\n",
        "  }"
      ],
      "metadata": {
        "id": "dhxEv9kYzCGV"
      }
    },
    {
      "cell_type": "markdown",
      "source": [
        "## The assignment"
      ],
      "metadata": {
        "id": "dlNYrPZek_Zr"
      }
    },
    {
      "cell_type": "markdown",
      "source": [
        "  Welcome to Operation Mind Shield, data science challenge initiated by SuperDataScience focused on predicting Alzheimer's Disease based on patient data. This mission is designed for data scientists of all\n",
        "  skill levels, with three different Assignments tailored to your expertise. Dive into the dataset, tackle the assignment that best matches your skills, and contribute to this collaborative project.\n",
        "\n",
        "\n",
        "\n",
        "\n",
        "\n"
      ],
      "metadata": {
        "id": "soLP1gC4lLEO"
      }
    },
    {
      "cell_type": "markdown",
      "source": [
        "##  📜 Mission Brief\n",
        "\n",
        "  In this mission, you will work with a dataset on Alzheimer's Disease patients. The goal is to build predictive models to determine the likelihood of a patient having Alzheimer's based on various features.\n",
        "  You'll progress through three phases depending on the assignment level you choose:\n",
        "  - Data Cleaning & Analysis\n",
        "  - Data Preprocessing & Feature Selection\n",
        "  - Model Selection & Fine-Tuning"
      ],
      "metadata": {
        "id": "jnJqUAeal5ot"
      }
    },
    {
      "cell_type": "markdown",
      "source": [
        " ## 🎯 Mission Objectives\n",
        "\n",
        "*   Predict whether a patient has Alzheimer's based on the available features.\n",
        "*   Clean and preprocess the data to improve the performance of your models.\n",
        "*   Train models that best suit your experience level, from simple to highly advanced.\n",
        "*   Evaluate your model's performance using appropriate validation techniques.\n",
        "*   (Advanced Level Only) Deploy your model using a Streamlit App."
      ],
      "metadata": {
        "id": "jCmJDNEvmZzK"
      }
    },
    {
      "cell_type": "markdown",
      "source": [
        " ## 🏆 Assignments\n",
        "  1. Assignment 1: The Initiate (Beginner Level)\n",
        "    - Perform basic data cleaning.\n",
        "    - Build a simple linear model (e.g., Logistic Regression).\n",
        "    - Evaluate your model with a simple test set.\n",
        "\n",
        "  2. Assignment 2: The Specialist (Intermediate Level)\n",
        "    - Conduct elaborate data cleaning with 1 feature selection step.\n",
        "    - Train more advanced models like Gradient Boosting.\n",
        "    - Use k-fold cross-validation for evaluation.\n",
        "    - Perform basic hyperparameter tuning.\n",
        "\n",
        "  3. Assignment 3: The Operative (Advanced Level)\n",
        "    - Engage in advanced data preprocessing (looping feature selection and feature extraction using PCA/LDA).\n",
        "    - Build ensemble models using powerful frameworks (e.g., SageMaker, Azure Machine Learning).\n",
        "    - Perform extensive hyperparameter tuning.\n",
        "    - Evaluate using k-fold cross-validation.\n",
        "    - Deploy your model through a Streamlit App."
      ],
      "metadata": {
        "id": "oQDtj_DLnsE2"
      }
    },
    {
      "cell_type": "markdown",
      "source": [
        " ## The Dataset\n",
        "\n",
        "    - PatientID: A unique identifier assigned to each patient (4751 to 6900).\n",
        "    - Age: The age of the patients ranges from 60 to 90 years.\n",
        "    - Gender: Gender of the patients, where 0 represents Male and 1 represents Female.\n",
        "    - Ethnicity: The ethnicity of the patients, coded as follows:\n",
        "        - 0: Caucasian\n",
        "        - 1: African American\n",
        "        - 2: Asian\n",
        "        - 3: Other\n",
        "    - EducationLevel: The education level of the patients, coded as follows:\n",
        "        - 0: None\n",
        "        - 1: High School\n",
        "        - 2: Bachelor's\n",
        "        - 3: Higher\n",
        "    - BMI: Body Mass Index of the patients, ranging from 15 to 40.\n",
        "    - Smoking: Smoking status, where 0 indicates No and 1 indicates Yes.\n",
        "    - AlcoholConsumption: Weekly alcohol consumption in units, ranging from 0 to 20.\n",
        "    - PhysicalActivity: Weekly physical activity in hours, ranging from 0 to 10.\n",
        "    - DietQuality: Diet quality score, ranging from 0 to 10.\n",
        "    - SleepQuality: Sleep quality score, ranging from 4 to 10.\n",
        "    - FamilyHistoryAlzheimers: Family history of Alzheimer's Disease, where 0 indicates No and 1 indicates Yes.\n",
        "    - CardiovascularDisease: Presence of cardiovascular disease, where 0 indicates No and 1 indicates Yes.\n",
        "    - Diabetes: Presence of diabetes, where 0 indicates No and 1 indicates Yes.\n",
        "    - Depression: Presence of depression, where 0 indicates No and 1 indicates Yes.\n",
        "    - HeadInjury: History of head injury, where 0 indicates No and 1 indicates Yes.\n",
        "    - Hypertension: Presence of hypertension, where 0 indicates No and 1 indicates Yes.\n",
        "    - SystolicBP: Systolic blood pressure, ranging from 90 to 180 mmHg.\n",
        "    - DiastolicBP: Diastolic blood pressure, ranging from 60 to 120 mmHg.\n",
        "    - CholesterolTotal: Total cholesterol levels, ranging from 150 to 300 mg/dL.\n",
        "    - CholesterolLDL: Low-density lipoprotein cholesterol levels, ranging from 50 to 200 mg/dL.\n",
        "    - CholesterolHDL: High-density lipoprotein cholesterol levels, ranging from 20 to 100 mg/dL.\n",
        "    - CholesterolTriglycerides: Triglycerides levels, ranging from 50 to 400 mg/dL.\n",
        "    - MMSE: Mini-Mental State Examination score, ranging from 0 to 30. Lower scores indicate cognitive impairment.\n",
        "    - FunctionalAssessment: Functional assessment score, ranging from 0 to 10. Lower scores indicate greater impairment.\n",
        "    - MemoryComplaints: Presence of memory complaints, where 0 indicates No and 1 indicates Yes.\n",
        "    - BehavioralProblems: Presence of behavioral problems, where 0 indicates No and 1 indicates Yes.\n",
        "    - ADL: Activities of Daily Living score, ranging from 0 to 10. Lower scores indicate greater impairment.\n",
        "    - Confusion: Presence of confusion, where 0 indicates No and 1 indicates Yes.\n",
        "    - Disorientation: Presence of disorientation, where 0 indicates No and 1 indicates Yes.\n",
        "    - PersonalityChanges: Presence of personality changes, where 0 indicates No and 1 indicates Yes.\n",
        "    - DifficultyCompletingTasks: Presence of difficulty completing tasks, where 0 indicates No and 1 indicates Yes.\n",
        "    - Forgetfulness: Presence of forgetfulness, where 0 indicates No and 1 indicates Yes.\n",
        "    - Diagnosis: Diagnosis status for Alzheimer's Disease, where 0 indicates No and 1 indicates Yes.\n",
        "    - DoctorInCharge: This column contains confidential information about the doctor in charge, with \"XXXConfid\" as the value for all patients."
      ],
      "metadata": {
        "id": "NDN_gxcaoX3d"
      }
    },
    {
      "cell_type": "markdown",
      "source": [
        "## 1. Data Preprocessing"
      ],
      "metadata": {
        "id": "equYZFUVsNMr"
      }
    },
    {
      "cell_type": "markdown",
      "source": [
        "### Import Libraries"
      ],
      "metadata": {
        "id": "RvmWlJJKYjKO"
      }
    },
    {
      "cell_type": "code",
      "source": [
        "import pandas as pd\n",
        "import numpy as np\n",
        "import matplotlib.pyplot as plt"
      ],
      "metadata": {
        "id": "jjw0obX2X3Rr"
      },
      "execution_count": null,
      "outputs": []
    },
    {
      "cell_type": "markdown",
      "source": [
        "### Global variables"
      ],
      "metadata": {
        "id": "LX98PO6Ab4QZ"
      }
    },
    {
      "cell_type": "code",
      "source": [
        "kfold_cv = 10 # number of folds in K-Fold Cross Validation\n",
        "my_random_state = 0 # set random state for models for consistent runs"
      ],
      "metadata": {
        "id": "3LIbQUzMb-IT"
      },
      "execution_count": null,
      "outputs": []
    },
    {
      "cell_type": "markdown",
      "source": [
        "### Import Data"
      ],
      "metadata": {
        "id": "gX-jicHeYbN1"
      }
    },
    {
      "cell_type": "markdown",
      "source": [
        "The PatientID column and DoctorInCharge columns aren't relevant for the model"
      ],
      "metadata": {
        "id": "z_sU91NIpE_h"
      }
    },
    {
      "cell_type": "code",
      "source": [
        "dataset = pd.read_csv('alzheimers_disease_data.csv')\n",
        "dataset = dataset.drop(['PatientID', 'DoctorInCharge'], axis= 1)"
      ],
      "metadata": {
        "id": "Lu1wVgLaYZUU"
      },
      "execution_count": null,
      "outputs": []
    },
    {
      "cell_type": "code",
      "source": [
        "dataset.head()"
      ],
      "metadata": {
        "id": "VeLb1JNVZRq3"
      },
      "execution_count": null,
      "outputs": []
    },
    {
      "cell_type": "markdown",
      "source": [
        "### Check for missing or duplicated data"
      ],
      "metadata": {
        "id": "AUTd5jvuUKoR"
      }
    },
    {
      "cell_type": "code",
      "source": [
        "# Check dataset info\n",
        "dataset.info()"
      ],
      "metadata": {
        "id": "O0Dua93GSjgG"
      },
      "execution_count": null,
      "outputs": []
    },
    {
      "cell_type": "markdown",
      "source": [
        "All the columns have 2149 non-null entries, so there is no missing data"
      ],
      "metadata": {
        "id": "BFIFUckZS7os"
      }
    },
    {
      "cell_type": "code",
      "source": [
        "dataset = dataset.drop_duplicates(subset=None, keep='first', inplace=False)\n",
        "dataset.info()"
      ],
      "metadata": {
        "id": "HGJc344qUFYD"
      },
      "execution_count": null,
      "outputs": []
    },
    {
      "cell_type": "markdown",
      "source": [
        "No rows have been removed so there are no duplicated rows"
      ],
      "metadata": {
        "id": "8gd4GtZXVDbh"
      }
    },
    {
      "cell_type": "markdown",
      "source": [
        "### List all the columns"
      ],
      "metadata": {
        "id": "sTV4isBxFQzR"
      }
    },
    {
      "cell_type": "code",
      "source": [
        "# columns = list(dataset.columns)\n",
        "# ['Age',\n",
        "#  'Gender',\n",
        "#  'Ethnicity',\n",
        "#  'EducationLevel',\n",
        "#  'BMI',\n",
        "#  'Smoking',\n",
        "#  'AlcoholConsumption',\n",
        "#  'PhysicalActivity',\n",
        "#  'DietQuality',\n",
        "#  'SleepQuality',\n",
        "#  'FamilyHistoryAlzheimers',\n",
        "#  'CardiovascularDisease',\n",
        "#  'Diabetes',\n",
        "#  'Depression',\n",
        "#  'HeadInjury',\n",
        "#  'Hypertension',\n",
        "#  'SystolicBP',\n",
        "#  'DiastolicBP',\n",
        "#  'CholesterolTotal',\n",
        "#  'CholesterolLDL',\n",
        "#  'CholesterolHDL',\n",
        "#  'CholesterolTriglycerides',\n",
        "#  'MMSE',\n",
        "#  'FunctionalAssessment',\n",
        "#  'MemoryComplaints',\n",
        "#  'BehavioralProblems',\n",
        "#  'ADL',\n",
        "#  'Confusion',\n",
        "#  'Disorientation',\n",
        "#  'PersonalityChanges',\n",
        "#  'DifficultyCompletingTasks',\n",
        "#  'Forgetfulness',\n",
        "#  'Diagnosis']"
      ],
      "metadata": {
        "id": "5hS9VzOstS-L"
      },
      "execution_count": null,
      "outputs": []
    },
    {
      "cell_type": "markdown",
      "source": [
        "### Rearrange the columns to group scalable and categorical and binary ones together\n"
      ],
      "metadata": {
        "id": "Twb8b85n6jDv"
      }
    },
    {
      "cell_type": "markdown",
      "source": [
        "In order to encode the categorical data and do feature scaling it is necessary to move columns around so that ones of the same type are grouped together."
      ],
      "metadata": {
        "id": "ylt3TNJxpqse"
      }
    },
    {
      "cell_type": "code",
      "source": [
        "# 0:1\n",
        "categorical_columns = ['Ethnicity', 'EducationLevel']\n",
        "\n",
        "# 2:16\n",
        "scalable_columns = ['Age', 'BMI', 'AlcoholConsumption', 'PhysicalActivity',\\\n",
        "                    'DietQuality', 'SleepQuality', 'SystolicBP', 'DiastolicBP',\\\n",
        "                    'CholesterolTotal', 'CholesterolLDL', 'CholesterolHDL',\n",
        "                    'CholesterolTriglycerides', 'MMSE', 'FunctionalAssessment', 'ADL'\\\n",
        "                   ]\n",
        "# 17:32\n",
        "binary_columns = ['Gender', 'Smoking', 'FamilyHistoryAlzheimers', 'CardiovascularDisease',\\\n",
        "                  'Diabetes', 'Depression', 'HeadInjury', 'Hypertension', 'MemoryComplaints',\\\n",
        "                  'BehavioralProblems', 'Confusion', 'Disorientation', 'PersonalityChanges',\\\n",
        "                  'DifficultyCompletingTasks', 'Forgetfulness', 'Diagnosis'\\\n",
        "                 ]\n",
        "\n",
        "assert len(categorical_columns) + len(scalable_columns) + len(binary_columns) == len(dataset.columns)\n",
        "\n",
        "new_columns = categorical_columns + scalable_columns + binary_columns\n",
        "dataset = dataset[new_columns]\n",
        "dataset.head()"
      ],
      "metadata": {
        "id": "Cojk-RbEstgS"
      },
      "execution_count": null,
      "outputs": []
    },
    {
      "cell_type": "code",
      "source": [
        "dataset.tail()"
      ],
      "metadata": {
        "id": "i_cNoLLaf8Du"
      },
      "execution_count": null,
      "outputs": []
    },
    {
      "cell_type": "markdown",
      "source": [
        "### Extract X and y"
      ],
      "metadata": {
        "id": "fhA6wDvFtre4"
      }
    },
    {
      "cell_type": "code",
      "source": [
        "X = dataset.iloc[:,:-1].values\n",
        "y = dataset.iloc[:, -1].values"
      ],
      "metadata": {
        "id": "tE97tVUBtqRQ"
      },
      "execution_count": null,
      "outputs": []
    },
    {
      "cell_type": "markdown",
      "source": [
        "### Encoding categorical data"
      ],
      "metadata": {
        "id": "kOZ4FQRTC5ew"
      }
    },
    {
      "cell_type": "code",
      "source": [
        "from sklearn.compose import ColumnTransformer\n",
        "from sklearn.preprocessing import OneHotEncoder\n",
        "ct = ColumnTransformer(transformers=[('encoder', OneHotEncoder(), [0, 1] )], remainder='passthrough')\n",
        "X = np.array(ct.fit_transform(X))"
      ],
      "metadata": {
        "id": "zN3VR08jTMRp"
      },
      "execution_count": null,
      "outputs": []
    },
    {
      "cell_type": "markdown",
      "source": [
        "### Splitting the dataset into the Training set and Test set"
      ],
      "metadata": {
        "id": "LBaQpsoiGEod"
      }
    },
    {
      "cell_type": "code",
      "source": [
        "# Splitting the dataset into the Training set and Test set\n",
        "from sklearn.model_selection import train_test_split\n",
        "X_train, X_test, y_train, y_test = train_test_split(X, y, test_size=0.2, random_state = my_random_state)"
      ],
      "metadata": {
        "id": "FTHPaYUpGJcn"
      },
      "execution_count": null,
      "outputs": []
    },
    {
      "cell_type": "code",
      "source": [
        "X_train[0]"
      ],
      "metadata": {
        "id": "s-zib0kqD79o"
      },
      "execution_count": null,
      "outputs": []
    },
    {
      "cell_type": "markdown",
      "source": [
        "### Feature Scaling"
      ],
      "metadata": {
        "id": "n2hAGgruG53d"
      }
    },
    {
      "cell_type": "code",
      "source": [
        "from sklearn.preprocessing import StandardScaler\n",
        "sc = StandardScaler()\n",
        "X_train[:, 8:23] = sc.fit_transform(X_train[:, 8:23])\n",
        "X_test[:, 8:23] = sc.transform(X_test[:, 8:23])"
      ],
      "metadata": {
        "id": "f4H0KBFWG-iw"
      },
      "execution_count": null,
      "outputs": []
    },
    {
      "cell_type": "code",
      "source": [
        "X_train[0]"
      ],
      "metadata": {
        "id": "Sf8kY30GGYoW"
      },
      "execution_count": null,
      "outputs": []
    },
    {
      "cell_type": "markdown",
      "source": [
        "## Classification models"
      ],
      "metadata": {
        "id": "yUTOlVzNvD96"
      }
    },
    {
      "cell_type": "markdown",
      "source": [
        "Run all the non-gradient based models. I am collecting all the results in the variables below and will present them at the end of this section."
      ],
      "metadata": {
        "id": "agM5956uv1X9"
      }
    },
    {
      "cell_type": "markdown",
      "source": [
        "### Initialise result variables"
      ],
      "metadata": {
        "id": "t2zBEBeyNEr3"
      }
    },
    {
      "cell_type": "code",
      "source": [
        "confusion_matrices = []\n",
        "accuracies = []\n",
        "one_accuracy = []\n",
        "models = [\"Logistic Regression\",\\\n",
        "          \"K-NN\",\\\n",
        "          \"SVM\",\\\n",
        "          \"Kernel SVM\",\\\n",
        "          \"Naive Bayes\",\\\n",
        "          \"Decision Tree\",\\\n",
        "          \"Random Forest\"]"
      ],
      "metadata": {
        "id": "DaE6q_V9OrNS"
      },
      "execution_count": null,
      "outputs": []
    },
    {
      "cell_type": "markdown",
      "source": [
        "### Logistic Regression model"
      ],
      "metadata": {
        "id": "Ztg3ae2cVtJr"
      }
    },
    {
      "cell_type": "markdown",
      "metadata": {
        "id": "0PkZRgaIVnPM"
      },
      "source": [
        "#### Training the Logistic Regression model on the Training set"
      ]
    },
    {
      "cell_type": "code",
      "metadata": {
        "id": "2irX3V89VnPO"
      },
      "source": [
        "from sklearn.linear_model import LogisticRegression\n",
        "classifier = LogisticRegression(random_state = my_random_state)\n",
        "classifier.fit(X_train, y_train)"
      ],
      "execution_count": null,
      "outputs": []
    },
    {
      "cell_type": "markdown",
      "metadata": {
        "id": "wbFFCC7VVnPO"
      },
      "source": [
        "#### Making the Confusion Matrix"
      ]
    },
    {
      "cell_type": "code",
      "metadata": {
        "id": "I76vIlltVnPP"
      },
      "source": [
        "from sklearn.metrics import confusion_matrix, accuracy_score\n",
        "y_pred = classifier.predict(X_test)\n",
        "confusion_matrices.append(confusion_matrix(y_test, y_pred))\n",
        "one_accuracy.append(accuracy_score(y_test, y_pred))"
      ],
      "execution_count": null,
      "outputs": []
    },
    {
      "cell_type": "markdown",
      "metadata": {
        "id": "CWWEyeD_HwLn"
      },
      "source": [
        "#### Applying k-Fold Cross Validation"
      ]
    },
    {
      "cell_type": "code",
      "source": [
        "from sklearn.model_selection import cross_val_score\n",
        "accuracies.append(cross_val_score(estimator=classifier,X=X_train, y=y_train, cv=kfold_cv))"
      ],
      "metadata": {
        "id": "cPRwwxuhHwLp"
      },
      "execution_count": null,
      "outputs": []
    },
    {
      "cell_type": "markdown",
      "source": [
        "### K-NN model"
      ],
      "metadata": {
        "id": "yMD1SXgcWeEg"
      }
    },
    {
      "cell_type": "markdown",
      "metadata": {
        "id": "JeP6LeVKWZeV"
      },
      "source": [
        "#### Training the K-NN model on the Training set"
      ]
    },
    {
      "cell_type": "code",
      "metadata": {
        "id": "RnLHJvONWZeV"
      },
      "source": [
        "from sklearn.neighbors import KNeighborsClassifier\n",
        "classifier = KNeighborsClassifier(n_neighbors = 5, metric = 'minkowski', p = 2)\n",
        "classifier.fit(X_train, y_train)"
      ],
      "execution_count": null,
      "outputs": []
    },
    {
      "cell_type": "markdown",
      "metadata": {
        "id": "loS3_L1OWZeW"
      },
      "source": [
        "#### Making the Confusion Matrix"
      ]
    },
    {
      "cell_type": "code",
      "metadata": {
        "id": "bBtr4A7kWZeW"
      },
      "source": [
        "from sklearn.metrics import confusion_matrix, accuracy_score\n",
        "y_pred = classifier.predict(X_test)\n",
        "confusion_matrices.append(confusion_matrix(y_test, y_pred))\n",
        "one_accuracy.append(accuracy_score(y_test, y_pred))"
      ],
      "execution_count": null,
      "outputs": []
    },
    {
      "cell_type": "markdown",
      "metadata": {
        "id": "DCjgQwm1MLaX"
      },
      "source": [
        "#### Applying k-Fold Cross Validation"
      ]
    },
    {
      "cell_type": "code",
      "source": [
        "from sklearn.model_selection import cross_val_score\n",
        "accuracies.append(cross_val_score(estimator=classifier,X=X_train, y=y_train, cv=kfold_cv))"
      ],
      "metadata": {
        "id": "rk3oDOB1MLa8"
      },
      "execution_count": null,
      "outputs": []
    },
    {
      "cell_type": "markdown",
      "source": [
        "###SVM model"
      ],
      "metadata": {
        "id": "Xg2STy7lWxkh"
      }
    },
    {
      "cell_type": "markdown",
      "metadata": {
        "id": "rUN2GoNkWpDL"
      },
      "source": [
        "#### Training the SVM model on the Training set"
      ]
    },
    {
      "cell_type": "code",
      "metadata": {
        "id": "arDwlNEGWpDM"
      },
      "source": [
        "from sklearn.svm import SVC\n",
        "classifier = SVC(kernel = 'linear', random_state = my_random_state)\n",
        "classifier.fit(X_train, y_train)"
      ],
      "execution_count": null,
      "outputs": []
    },
    {
      "cell_type": "markdown",
      "metadata": {
        "id": "7mpwGSjcWpDN"
      },
      "source": [
        "#### Making the Confusion Matrix"
      ]
    },
    {
      "cell_type": "code",
      "metadata": {
        "id": "5XH5wb12WpDN"
      },
      "source": [
        "from sklearn.metrics import confusion_matrix, accuracy_score\n",
        "y_pred = classifier.predict(X_test)\n",
        "confusion_matrices.append(confusion_matrix(y_test, y_pred))\n",
        "one_accuracy.append(accuracy_score(y_test, y_pred))"
      ],
      "execution_count": null,
      "outputs": []
    },
    {
      "cell_type": "markdown",
      "metadata": {
        "id": "i3rQccKHH5Bm"
      },
      "source": [
        "#### Applying k-Fold Cross Validation"
      ]
    },
    {
      "cell_type": "code",
      "source": [
        "from sklearn.model_selection import cross_val_score\n",
        "accuracies.append(cross_val_score(estimator=classifier,X=X_train, y=y_train, cv=kfold_cv))"
      ],
      "metadata": {
        "id": "_uf9LJlpH5C2"
      },
      "execution_count": null,
      "outputs": []
    },
    {
      "cell_type": "markdown",
      "source": [
        "### Kernel SVM model"
      ],
      "metadata": {
        "id": "FKQ87lMrUppk"
      }
    },
    {
      "cell_type": "markdown",
      "metadata": {
        "id": "bb6jCOCQiAmP"
      },
      "source": [
        "#### Training the Kernel SVM model on the Training set"
      ]
    },
    {
      "cell_type": "code",
      "metadata": {
        "id": "e0pFVAmciHQs"
      },
      "source": [
        "from sklearn.svm import SVC\n",
        "classifier = SVC(kernel = 'rbf', random_state = my_random_state)\n",
        "classifier.fit(X_train, y_train)"
      ],
      "execution_count": null,
      "outputs": []
    },
    {
      "cell_type": "markdown",
      "metadata": {
        "id": "h4Hwj34ziWQW"
      },
      "source": [
        "#### Making the Confusion Matrix"
      ]
    },
    {
      "cell_type": "code",
      "metadata": {
        "id": "D6bpZwUiiXic"
      },
      "source": [
        "from sklearn.metrics import confusion_matrix, accuracy_score\n",
        "y_pred = classifier.predict(X_test)\n",
        "confusion_matrices.append(confusion_matrix(y_test, y_pred))\n",
        "one_accuracy.append(accuracy_score(y_test, y_pred))"
      ],
      "execution_count": null,
      "outputs": []
    },
    {
      "cell_type": "markdown",
      "metadata": {
        "id": "6SCr9VgAII2d"
      },
      "source": [
        "#### Applying k-Fold Cross Validation"
      ]
    },
    {
      "cell_type": "code",
      "source": [
        "from sklearn.model_selection import cross_val_score\n",
        "accuracies.append(cross_val_score(estimator=classifier,X=X_train, y=y_train, cv=kfold_cv))"
      ],
      "metadata": {
        "id": "a_9fZqJnII2f"
      },
      "execution_count": null,
      "outputs": []
    },
    {
      "cell_type": "markdown",
      "source": [
        "### Naive Bayes model"
      ],
      "metadata": {
        "id": "lYRfsONyXyuD"
      }
    },
    {
      "cell_type": "markdown",
      "metadata": {
        "id": "g9yT2s0VXtQg"
      },
      "source": [
        "#### Training the Naive Bayes model on the Training set"
      ]
    },
    {
      "cell_type": "code",
      "metadata": {
        "id": "h2K3AWYCXtQt"
      },
      "source": [
        "from sklearn.naive_bayes import GaussianNB\n",
        "classifier = GaussianNB()\n",
        "classifier.fit(X_train, y_train)"
      ],
      "execution_count": null,
      "outputs": []
    },
    {
      "cell_type": "markdown",
      "metadata": {
        "id": "sKH0elotXtQt"
      },
      "source": [
        "#### Making the Confusion Matrix"
      ]
    },
    {
      "cell_type": "code",
      "metadata": {
        "id": "XCeiFqfYXtQt"
      },
      "source": [
        "from sklearn.metrics import confusion_matrix, accuracy_score\n",
        "y_pred = classifier.predict(X_test)\n",
        "confusion_matrices.append(confusion_matrix(y_test, y_pred))\n",
        "one_accuracy.append(accuracy_score(y_test, y_pred))"
      ],
      "execution_count": null,
      "outputs": []
    },
    {
      "cell_type": "markdown",
      "metadata": {
        "id": "4WGMWxABIMcS"
      },
      "source": [
        "#### Applying k-Fold Cross Validation"
      ]
    },
    {
      "cell_type": "code",
      "source": [
        "from sklearn.model_selection import cross_val_score\n",
        "accuracies.append(cross_val_score(estimator=classifier,X=X_train, y=y_train, cv=kfold_cv))"
      ],
      "metadata": {
        "id": "RjM1XYdkIMcU"
      },
      "execution_count": null,
      "outputs": []
    },
    {
      "cell_type": "markdown",
      "source": [
        "###Decision Tree Classification model"
      ],
      "metadata": {
        "id": "99dsez2YXfwT"
      }
    },
    {
      "cell_type": "markdown",
      "metadata": {
        "id": "3Org2A-0XcQ5"
      },
      "source": [
        "#### Training the Decision Tree Classification model on the Training set"
      ]
    },
    {
      "cell_type": "code",
      "metadata": {
        "id": "W06ivGkYXcQ6"
      },
      "source": [
        "from sklearn.tree import DecisionTreeClassifier\n",
        "classifier = DecisionTreeClassifier(criterion = 'entropy', random_state = my_random_state)\n",
        "classifier.fit(X_train, y_train)"
      ],
      "execution_count": null,
      "outputs": []
    },
    {
      "cell_type": "markdown",
      "metadata": {
        "id": "cXRzGrS9XcRC"
      },
      "source": [
        "#### Making the Confusion Matrix"
      ]
    },
    {
      "cell_type": "code",
      "metadata": {
        "id": "p6TiOhqhXcRC"
      },
      "source": [
        "from sklearn.metrics import confusion_matrix, accuracy_score\n",
        "y_pred = classifier.predict(X_test)\n",
        "confusion_matrices.append(confusion_matrix(y_test, y_pred))\n",
        "one_accuracy.append(accuracy_score(y_test, y_pred))"
      ],
      "execution_count": null,
      "outputs": []
    },
    {
      "cell_type": "markdown",
      "metadata": {
        "id": "nhu4SMKjIPWU"
      },
      "source": [
        "#### Applying k-Fold Cross Validation"
      ]
    },
    {
      "cell_type": "code",
      "source": [
        "from sklearn.model_selection import cross_val_score\n",
        "accuracies.append(cross_val_score(estimator=classifier,X=X_train, y=y_train, cv=kfold_cv))\n",
        "print(accuracies[-1])"
      ],
      "metadata": {
        "id": "YVWQJZGQIPW3"
      },
      "execution_count": null,
      "outputs": []
    },
    {
      "cell_type": "markdown",
      "source": [
        "### Random Forest Classification model"
      ],
      "metadata": {
        "id": "jkknELIFXOZ1"
      }
    },
    {
      "cell_type": "markdown",
      "metadata": {
        "id": "A0okjTcfXJIl"
      },
      "source": [
        "#### Training the Random Forest Classification model on the Training set"
      ]
    },
    {
      "cell_type": "code",
      "metadata": {
        "id": "W4ZhFpQgXJIm"
      },
      "source": [
        "from sklearn.ensemble import RandomForestClassifier\n",
        "classifier = RandomForestClassifier(n_estimators = 10, criterion = 'entropy', random_state = my_random_state)\n",
        "classifier.fit(X_train, y_train)"
      ],
      "execution_count": null,
      "outputs": []
    },
    {
      "cell_type": "markdown",
      "metadata": {
        "id": "Y0NAWp79XJIo"
      },
      "source": [
        "#### Making the Confusion Matrix"
      ]
    },
    {
      "cell_type": "code",
      "metadata": {
        "id": "S54-S0CGXJIp"
      },
      "source": [
        "from sklearn.metrics import confusion_matrix, accuracy_score\n",
        "y_pred = classifier.predict(X_test)\n",
        "confusion_matrices.append(confusion_matrix(y_test, y_pred))\n",
        "one_accuracy.append(accuracy_score(y_test, y_pred))"
      ],
      "execution_count": null,
      "outputs": []
    },
    {
      "cell_type": "markdown",
      "metadata": {
        "id": "U-eGh0nuyabx"
      },
      "source": [
        "#### Applying k-Fold Cross Validation"
      ]
    },
    {
      "cell_type": "code",
      "source": [
        "from sklearn.model_selection import cross_val_score\n",
        "accuracies.append(cross_val_score(estimator=classifier,X=X_train, y=y_train, cv=kfold_cv))\n",
        "print(accuracies[-1])"
      ],
      "metadata": {
        "id": "yU3_o_jUcKhO"
      },
      "execution_count": null,
      "outputs": []
    },
    {
      "cell_type": "markdown",
      "source": [
        "## Comparing the classification models"
      ],
      "metadata": {
        "id": "MMLMpLHJPL1U"
      }
    },
    {
      "cell_type": "markdown",
      "source": [
        "### Confusion Matrices"
      ],
      "metadata": {
        "id": "7LPtn0rgPijS"
      }
    },
    {
      "cell_type": "code",
      "source": [
        "print(\"Confusion Matrices\\n\")\n",
        "for i in range(len(models)):\n",
        "  print(models[i])\n",
        "  print(confusion_matrices[i])"
      ],
      "metadata": {
        "id": "rhyjvpr0PWMq"
      },
      "execution_count": null,
      "outputs": []
    },
    {
      "cell_type": "markdown",
      "source": [
        "### Accuracy scores"
      ],
      "metadata": {
        "id": "LopcIQmLPa5E"
      }
    },
    {
      "cell_type": "code",
      "source": [
        "print(\"Accuracy Scores\\n\")\n",
        "for i in range(len(models)):\n",
        "  print(models[i].ljust(25), \"{:.2f}%\".format(one_accuracy[i]*100))"
      ],
      "metadata": {
        "id": "VsOUrbqKPdZC"
      },
      "execution_count": null,
      "outputs": []
    },
    {
      "cell_type": "markdown",
      "source": [
        "### K-Fold Validation Accuracies"
      ],
      "metadata": {
        "id": "FYvc2XvwP293"
      }
    },
    {
      "cell_type": "code",
      "source": [
        "print(\"K-Fold Validation\\n\")\n",
        "for i in range(len(models)):\n",
        "  print(models[i].ljust(25), \"Accuracy: {:.2f}% Standard Deviation: {:.2f}%\".format(accuracies[i].mean()*100, accuracies[i].std()*100))"
      ],
      "metadata": {
        "id": "HQ95Fem_PsWx"
      },
      "execution_count": null,
      "outputs": []
    },
    {
      "cell_type": "markdown",
      "source": [
        "### Summary"
      ],
      "metadata": {
        "id": "jI02MVlOxE1N"
      }
    },
    {
      "cell_type": "markdown",
      "source": [
        "The best of these models are Decision Tree and Random Forest."
      ],
      "metadata": {
        "id": "rJ22r_FFw3zp"
      }
    },
    {
      "cell_type": "code",
      "source": [],
      "metadata": {
        "id": "H70P38Yb1QIA"
      },
      "execution_count": null,
      "outputs": []
    },
    {
      "cell_type": "markdown",
      "source": [
        "## Gradient Boosting models"
      ],
      "metadata": {
        "id": "daGI_iijz7QI"
      }
    },
    {
      "cell_type": "markdown",
      "source": [
        "### Initialise result variables"
      ],
      "metadata": {
        "id": "_14DhRFP0CT6"
      }
    },
    {
      "cell_type": "code",
      "source": [
        "gb_confusion_matrices = [] # confusion matrices\n",
        "gb_accuracies = [] # k-fold accuracies\n",
        "gb_skf_accuracies = [] # k-fold accuracies using stratified folding\n",
        "gb_rskf_accuracies = [] # k-fold accuracies using repeated stratified folding\n",
        "gb_one_accuracy = [] # accuracy on test set\n",
        "gb_models = [\"CatBoost\",\\\n",
        "             \"XGBoost\",\\\n",
        "             \"LightGBM\"\\\n",
        "            ]\n"
      ],
      "metadata": {
        "id": "Ecf-CR-10CT6"
      },
      "execution_count": null,
      "outputs": []
    },
    {
      "cell_type": "markdown",
      "source": [
        "### CatBoost"
      ],
      "metadata": {
        "id": "EQq8kaIVWCWe"
      }
    },
    {
      "cell_type": "markdown",
      "metadata": {
        "id": "9mN88WZuYmXq"
      },
      "source": [
        "#### Building and training the model"
      ]
    },
    {
      "cell_type": "markdown",
      "metadata": {
        "id": "E-wsRF2zYnGC"
      },
      "source": [
        "##### Building the model"
      ]
    },
    {
      "cell_type": "code",
      "execution_count": null,
      "metadata": {
        "id": "sjsRBfGbsiIA"
      },
      "outputs": [],
      "source": [
        "!pip install catboost"
      ]
    },
    {
      "cell_type": "code",
      "execution_count": null,
      "metadata": {
        "id": "nK2E8nk9siDA"
      },
      "outputs": [],
      "source": [
        "import catboost as cb\n",
        "model = cb.CatBoostClassifier(verbose = 0, random_state = my_random_state)\n",
        "#model = cb.CatBoostClassifier(verbose=0, task_type='GPU')"
      ]
    },
    {
      "cell_type": "markdown",
      "metadata": {
        "id": "-rVZpyt7Y4qg"
      },
      "source": [
        "##### Training the model"
      ]
    },
    {
      "cell_type": "code",
      "execution_count": null,
      "metadata": {
        "id": "_7jpEuE5Y7V5",
        "collapsed": true
      },
      "outputs": [],
      "source": [
        "model.fit(X_train, y_train)"
      ]
    },
    {
      "cell_type": "code",
      "source": [
        "# model.calc_feature_statistics(X_train,\n",
        "#                                     y_train,\n",
        "#                                     feature=10,\n",
        "#                                     plot=False)"
      ],
      "metadata": {
        "id": "agaTN6WCXKCm"
      },
      "execution_count": null,
      "outputs": []
    },
    {
      "cell_type": "markdown",
      "metadata": {
        "id": "otleXDFDZH11"
      },
      "source": [
        "#### Inference"
      ]
    },
    {
      "cell_type": "code",
      "execution_count": null,
      "metadata": {
        "id": "u3LosbxwZIOk"
      },
      "outputs": [],
      "source": [
        "y_pred = model.predict(X_test)"
      ]
    },
    {
      "cell_type": "code",
      "execution_count": null,
      "metadata": {
        "id": "OWtIX2uuuom2"
      },
      "outputs": [],
      "source": [
        "y_pred"
      ]
    },
    {
      "cell_type": "markdown",
      "metadata": {
        "id": "tJj5k2MxZga3"
      },
      "source": [
        "#### Evaluating the model"
      ]
    },
    {
      "cell_type": "markdown",
      "metadata": {
        "id": "o0oyfLWoaEGw"
      },
      "source": [
        "##### Making the Confusion Matrix"
      ]
    },
    {
      "cell_type": "code",
      "source": [
        "from sklearn.metrics import confusion_matrix, ConfusionMatrixDisplay\n",
        "cm = confusion_matrix(y_true=y_test, y_pred=y_pred)\n",
        "gb_confusion_matrices.append(cm)"
      ],
      "metadata": {
        "id": "8gYcdMxHMlQU"
      },
      "execution_count": null,
      "outputs": []
    },
    {
      "cell_type": "code",
      "source": [
        "cmd = ConfusionMatrixDisplay(cm)\n",
        "cmd.plot()"
      ],
      "metadata": {
        "id": "pqyHsqMRMlQ-"
      },
      "execution_count": null,
      "outputs": []
    },
    {
      "cell_type": "markdown",
      "source": [
        "##### Monkey accuracy"
      ],
      "metadata": {
        "id": "eY1TTUpvN-xY"
      }
    },
    {
      "cell_type": "code",
      "source": [
        "monkey = 100*sum(cm[0])/cm.sum()\n",
        "print(100*sum(cm[0]))\n",
        "print(\"Accuracy of 0 model: {:.1f}%\".format(monkey))"
      ],
      "metadata": {
        "id": "_4I6o2EHOFD7"
      },
      "execution_count": null,
      "outputs": []
    },
    {
      "cell_type": "markdown",
      "metadata": {
        "id": "0l_6GuspajAC"
      },
      "source": [
        "##### Accuracy"
      ]
    },
    {
      "cell_type": "code",
      "execution_count": null,
      "metadata": {
        "id": "FwpfnF5SaqlS"
      },
      "outputs": [],
      "source": [
        "from sklearn.metrics import accuracy_score\n",
        "acc = accuracy_score(y_true=y_test, y_pred=y_pred)\n",
        "print(\"Accuracy on test set: {:.2f}%\".format(acc*100))\n",
        "gb_one_accuracy.append(acc)"
      ]
    },
    {
      "cell_type": "markdown",
      "metadata": {
        "id": "6jn64zWSbiQg"
      },
      "source": [
        "##### k-Fold Cross Validation and Stratified"
      ]
    },
    {
      "cell_type": "code",
      "execution_count": null,
      "metadata": {
        "id": "Ir-SXJJobmpi",
        "collapsed": true
      },
      "outputs": [],
      "source": [
        "from sklearn.model_selection import cross_val_score\n",
        "from sklearn.model_selection import StratifiedKFold\n",
        "kf_accs = cross_val_score(estimator=model,X=X_train, y=y_train, cv=kfold_cv)\n",
        "skf = StratifiedKFold(n_splits=kfold_cv, shuffle = True, random_state=my_random_state)\n",
        "skf_accs = cross_val_score(estimator = model,\n",
        "                             X = X_train,\n",
        "                             y = y_train,\n",
        "                             scoring = 'accuracy',\n",
        "                             cv = skf)\n",
        "gb_skf_accuracies.append(skf_accs)\n",
        "gb_accuracies.append(kf_accs)"
      ]
    },
    {
      "cell_type": "markdown",
      "source": [
        "###### Output"
      ],
      "metadata": {
        "id": "OK5M2KeFKpTo"
      }
    },
    {
      "cell_type": "code",
      "source": [
        "print(\"K-Fold Accuracy: {:.2f} %\".format(kf_accs.mean()*100))\n",
        "print(\"Standard Deviation: {:.2f} %\".format(kf_accs.std()*100))\n",
        "print(kf_accs)\n",
        "print(\"Stratified KF Accuracy: {:.2f} %\".format(skf_accs.mean()*100))\n",
        "print(\"Standard Deviation: {:.2f} %\".format(skf_accs.std()*100))\n",
        "print(skf_accs)"
      ],
      "metadata": {
        "id": "Ze3U03r2x29-"
      },
      "execution_count": null,
      "outputs": []
    },
    {
      "cell_type": "markdown",
      "source": [
        "##### Repeated Stratified K-Fold Cross Validation"
      ],
      "metadata": {
        "id": "rtvDVrGjH5ZL"
      }
    },
    {
      "cell_type": "code",
      "source": [
        "from sklearn.model_selection import cross_val_score\n",
        "from sklearn.model_selection import RepeatedStratifiedKFold\n",
        "rskf = RepeatedStratifiedKFold(n_splits=kfold_cv, n_repeats=3, random_state = my_random_state)\n",
        "rskf_accs = cross_val_score(estimator=model, \\\n",
        "                     X=X_train, y=y_train, \\\n",
        "                     scoring='accuracy', \\\n",
        "                     cv=rskf)\n",
        "gb_rskf_accuracies.append(rskf_accs)"
      ],
      "metadata": {
        "id": "kg_ChJTkMJ2v",
        "collapsed": true
      },
      "execution_count": null,
      "outputs": []
    },
    {
      "cell_type": "markdown",
      "source": [
        "###### Output"
      ],
      "metadata": {
        "id": "3kBMHhlhLMb2"
      }
    },
    {
      "cell_type": "code",
      "source": [
        "print(\"RSKF Mean Accuracies: {:.2f}%\".format(rskf_accs.mean()*100))\n",
        "print(\"Standard Deviation: {:.2f}%\".format(rskf_accs.std()*100))\n",
        "print(rskf_accs)"
      ],
      "metadata": {
        "id": "UTL1s8V8x7Wt"
      },
      "execution_count": null,
      "outputs": []
    },
    {
      "cell_type": "markdown",
      "metadata": {
        "id": "h9kU03YPxylY"
      },
      "source": [
        "##### Grid Search option"
      ]
    },
    {
      "cell_type": "code",
      "execution_count": null,
      "metadata": {
        "id": "s-Uo87fSkSue"
      },
      "outputs": [],
      "source": [
        "# Tune the CatBoost model with the following hyperparameters. The hyperparameters that have the greatest effect on optimizing the CatBoost evaluation metrics are: learning_rate, depth, l2_leaf_reg, and random_strength. For a list of all the CatBoost hyperparameters, see CatBoost hyperparameters.\n",
        "\n",
        "# Parameter Name\tParameter Type\tRecommended Ranges\n",
        "# learning_rate\tContinuousParameterRanges\tMinValue: 0.01, MaxValue: 0.1\n",
        "# depth\tIntegerParameterRanges\tMinValue: 4, MaxValue: 10\n",
        "# l2_leaf_reg\tIntegerParameterRanges\tMinValue: 2, MaxValue: 10\n",
        "# random_strength\tContinuousParameterRanges\tMinValue: 0, MaxValue: 10\n"
      ]
    },
    {
      "cell_type": "code",
      "source": [
        "# from sklearn.model_selection import GridSearchCV\n",
        "# # parameters = [{'learning_rate' : [0.01, 0.05, 0.10],\\\n",
        "# #                'depth' : [4, 7, 10],\n",
        "# #                'l2_leaf_reg' : [2, 6, 10],\n",
        "# #                'random_strength' : [0, 4, 8]}]\n",
        "\n",
        "# parameters = [{'learning_rate' : [0.007, 0.008], # initially 0.01, 0.03\n",
        "#                'depth' : [8, 9, 10], # initially 4, 10\n",
        "#                'l2_leaf_reg' : [2, 3], # initially 2,6\n",
        "#                'random_strength' : [0, 1]}] # initially 0,4\n",
        "# grid_search = GridSearchCV(estimator = model,\n",
        "#                            param_grid = parameters,\n",
        "#                            scoring = 'accuracy',\n",
        "#                            cv = 5,\n",
        "#                            n_jobs = -1)"
      ],
      "metadata": {
        "id": "vv-ofoGUd2s1"
      },
      "execution_count": null,
      "outputs": []
    },
    {
      "cell_type": "code",
      "execution_count": null,
      "metadata": {
        "id": "nxC_ywQ2x1k4"
      },
      "outputs": [],
      "source": [
        "# # The long bit\n",
        "# grid_search.fit(X, y)"
      ]
    },
    {
      "cell_type": "code",
      "source": [
        "# best_accuracy = grid_search.best_score_\n",
        "# best_parameters = grid_search.best_params_\n",
        "# print(\"Best Accuracy: {:.2f} %\".format(best_accuracy*100))\n",
        "# print(\"Best Parameters:\", best_parameters)"
      ],
      "metadata": {
        "id": "k2nr6akydrbz"
      },
      "execution_count": null,
      "outputs": []
    },
    {
      "cell_type": "markdown",
      "source": [
        "Best Accuracy: 95.80%\n",
        "\n",
        "Best Parameters: {'depth': 10, 'l2_leaf_reg': 2, 'learning_rate': 0.01, 'random_strength': 0}"
      ],
      "metadata": {
        "id": "2kBwsD3yFrIu"
      }
    },
    {
      "cell_type": "code",
      "source": [
        "# model = cb.CatBoostClassifier(l2_leaf_reg = 2, \\\n",
        "#                              learning_rate = 0.008, \\\n",
        "#                              depth = 10, \\\n",
        "#                              random_strength = 0,\n",
        "#                              verbose=0)\n",
        "# model.fit(X_train, y_train)\n",
        "# y_pred = model.predict(X_test)\n",
        "# accuracy = accuracy_score(y_test, y_pred)\n",
        "# print(\"Accuracy: {:.2f}%\".format(accuracy*100))\n",
        "# accs = cross_val_score(estimator = model, X = X, y = y, cv=10, scoring='accuracy')\n",
        "# print(\"Mean Accuracy: {:.2f}%\".format(accs.mean()*100))\n",
        "# print(\"Standard Deviation: {:.2f}%\".format(accs.std()*100))"
      ],
      "metadata": {
        "id": "zcPJbV6LlnNQ"
      },
      "execution_count": null,
      "outputs": []
    },
    {
      "cell_type": "markdown",
      "source": [
        "### XGBoost"
      ],
      "metadata": {
        "id": "ZZjvN1JfKK6G"
      }
    },
    {
      "cell_type": "markdown",
      "source": [
        "#### Building and Training the model"
      ],
      "metadata": {
        "id": "kgxAeOrtQrKF"
      }
    },
    {
      "cell_type": "markdown",
      "source": [
        "##### Building the model"
      ],
      "metadata": {
        "id": "0D0blHSQKK6I"
      }
    },
    {
      "cell_type": "code",
      "source": [
        "from xgboost import XGBClassifier\n",
        "model = XGBClassifier()\n",
        "# model = XGBClassifier(n_estimators=50, max_depth=3, learning_rate=0.1, gamma=0)"
      ],
      "metadata": {
        "id": "OM2EkDeFXKTd"
      },
      "execution_count": null,
      "outputs": []
    },
    {
      "cell_type": "markdown",
      "source": [
        "##### Training the model"
      ],
      "metadata": {
        "id": "0236TBmlKK6K"
      }
    },
    {
      "cell_type": "code",
      "source": [
        "model.fit(X_train, y_train)"
      ],
      "metadata": {
        "id": "R939AbkuXWi7"
      },
      "execution_count": null,
      "outputs": []
    },
    {
      "cell_type": "markdown",
      "source": [
        "#### Inference"
      ],
      "metadata": {
        "id": "2xCfQgjCKK6M"
      }
    },
    {
      "cell_type": "code",
      "source": [
        "y_pred = model.predict(X_test)"
      ],
      "metadata": {
        "id": "9nNMS0kJXgIk"
      },
      "execution_count": null,
      "outputs": []
    },
    {
      "cell_type": "markdown",
      "metadata": {
        "id": "v7SXifJeKpw2"
      },
      "source": [
        "#### Evaluating the model"
      ]
    },
    {
      "cell_type": "markdown",
      "metadata": {
        "id": "1Z7ou7-cKpw3"
      },
      "source": [
        "##### Making the Confusion Matrix"
      ]
    },
    {
      "cell_type": "code",
      "source": [
        "from sklearn.metrics import confusion_matrix, ConfusionMatrixDisplay\n",
        "cm = confusion_matrix(y_true=y_test, y_pred=y_pred)\n",
        "gb_confusion_matrices.append(cm)"
      ],
      "metadata": {
        "id": "TG3PWDxYaLPR"
      },
      "execution_count": null,
      "outputs": []
    },
    {
      "cell_type": "code",
      "source": [
        "cmd = ConfusionMatrixDisplay(cm)\n",
        "cmd.plot()"
      ],
      "metadata": {
        "id": "4rmNMg4fa-nl"
      },
      "execution_count": null,
      "outputs": []
    },
    {
      "cell_type": "markdown",
      "source": [
        "##### Monkey accuracy"
      ],
      "metadata": {
        "id": "ApEv9hGuQIAK"
      }
    },
    {
      "cell_type": "code",
      "source": [
        "monkey = 100*sum(cm[0])/cm.sum()\n",
        "print(100*sum(cm[0]))\n",
        "print(\"Accuracy of 0 model: {:.1f}%\".format(monkey))"
      ],
      "metadata": {
        "id": "NpZ5fGV0QIAx"
      },
      "execution_count": null,
      "outputs": []
    },
    {
      "cell_type": "markdown",
      "source": [
        "##### Accuracy"
      ],
      "metadata": {
        "id": "akrHomHKKpw6"
      }
    },
    {
      "cell_type": "code",
      "source": [
        "from sklearn.metrics import accuracy_score\n",
        "acc = accuracy_score(y_true=y_test, y_pred=y_pred)\n",
        "print(\"Accuracy on test set: {:.2f}%\".format(acc*100))\n",
        "gb_one_accuracy.append(acc)"
      ],
      "metadata": {
        "id": "6XvvdyniaL9G"
      },
      "execution_count": null,
      "outputs": []
    },
    {
      "cell_type": "markdown",
      "metadata": {
        "id": "krxvgNAmOv2u"
      },
      "source": [
        "##### k-Fold Cross Validation and Stratified"
      ]
    },
    {
      "cell_type": "code",
      "execution_count": null,
      "metadata": {
        "collapsed": true,
        "id": "vZea5SQmOv3U"
      },
      "outputs": [],
      "source": [
        "from sklearn.model_selection import cross_val_score\n",
        "from sklearn.model_selection import StratifiedKFold\n",
        "kf_accs = cross_val_score(estimator=model,X=X_train, y=y_train, cv=kfold_cv)\n",
        "skf = StratifiedKFold(n_splits=kfold_cv, shuffle = True, random_state=my_random_state)\n",
        "skf_accs = cross_val_score(estimator = model,\n",
        "                             X = X_train,\n",
        "                             y = y_train,\n",
        "                             scoring = 'accuracy',\n",
        "                             cv = skf)\n",
        "gb_skf_accuracies.append(skf_accs)\n",
        "gb_accuracies.append(kf_accs)"
      ]
    },
    {
      "cell_type": "markdown",
      "source": [
        "###### Output"
      ],
      "metadata": {
        "id": "WJ1wLLq4Ov3V"
      }
    },
    {
      "cell_type": "code",
      "source": [
        "print(\"K-Fold Accuracy: {:.2f} %\".format(kf_accs.mean()*100))\n",
        "print(\"Standard Deviation: {:.2f} %\".format(kf_accs.std()*100))\n",
        "print(kf_accs)\n",
        "print(\"Stratified KF Accuracy: {:.2f} %\".format(skf_accs.mean()*100))\n",
        "print(\"Standard Deviation: {:.2f} %\".format(skf_accs.std()*100))\n",
        "print(skf_accs)"
      ],
      "metadata": {
        "id": "vSw4RkvoOv3W"
      },
      "execution_count": null,
      "outputs": []
    },
    {
      "cell_type": "markdown",
      "source": [
        "##### Repeated Stratified K-Fold Cross Validation"
      ],
      "metadata": {
        "id": "1q-3WoghM6Gp"
      }
    },
    {
      "cell_type": "code",
      "source": [
        "from sklearn.model_selection import cross_val_score\n",
        "from sklearn.model_selection import RepeatedStratifiedKFold\n",
        "rskf = RepeatedStratifiedKFold(n_splits=kfold_cv, n_repeats=3, random_state = my_random_state)\n",
        "rskf_accs = cross_val_score(estimator=model, \\\n",
        "                     X=X_train, y=y_train, \\\n",
        "                     scoring='accuracy', \\\n",
        "                     cv=rskf)\n",
        "gb_rskf_accuracies.append(rskf_accs)"
      ],
      "metadata": {
        "collapsed": true,
        "id": "mXK6uF4RM6HR"
      },
      "execution_count": null,
      "outputs": []
    },
    {
      "cell_type": "markdown",
      "source": [
        "###### Output"
      ],
      "metadata": {
        "id": "DMspRZSvz8lf"
      }
    },
    {
      "cell_type": "code",
      "source": [
        "print(\"RSKF Mean Accuracies: {:.2f}%\".format(rskf_accs.mean()*100))\n",
        "print(\"Standard Deviation: {:.2f}%\".format(rskf_accs.std()*100))\n",
        "print(rskf_accs)"
      ],
      "metadata": {
        "id": "kLFZnczNM6HS"
      },
      "execution_count": null,
      "outputs": []
    },
    {
      "cell_type": "markdown",
      "source": [
        "#### Grid Search option"
      ],
      "metadata": {
        "id": "v2jM6wTaRAgl"
      }
    },
    {
      "cell_type": "code",
      "source": [
        "# from sklearn.model_selection import GridSearchCV\n",
        "# classifier = XGBClassifier()\n",
        "# parameters = [{'learning_rate': [0.09, 0.1, 0.11], \\\n",
        "#                'gamma': [0, 0.01], \\\n",
        "#                'n_estimators': [88, 90, 92], \\\n",
        "#                'max_depth': [3, 4, 5]}]\n",
        "# #               'booster': ['gbtree', 'gblinear', 'dart'], \\\n",
        "# grid_search = GridSearchCV(estimator=classifier, \\\n",
        "#                            param_grid=parameters, \\\n",
        "#                            scoring = 'accuracy',\\\n",
        "#                            cv = 10,\\\n",
        "#                            n_jobs = -1)\n",
        "# grid_search.fit(X, y)\n",
        "# best_accuracy = grid_search.best_score_\n",
        "# best_parameters = grid_search.best_params_\n",
        "# print(\"Best Score(Accuracy): {:.2f} %\".format(best_accuracy*100))\n",
        "# print(\"Best Parameters:\", best_parameters)"
      ],
      "metadata": {
        "id": "w2cLb1sarlWE"
      },
      "execution_count": null,
      "outputs": []
    },
    {
      "cell_type": "markdown",
      "source": [
        "Find new parameters\n",
        "\n",
        "\n",
        "```\n",
        "Parameters: learning_rate=, max_depth=, n_estimators=\n",
        "```\n",
        "\n"
      ],
      "metadata": {
        "id": "CsSdiWLBpXxh"
      }
    },
    {
      "cell_type": "markdown",
      "source": [
        "###### Re-run test set accuracy"
      ],
      "metadata": {
        "id": "Thjr1jXx0Hk_"
      }
    },
    {
      "cell_type": "markdown",
      "source": [
        "Using the grid search's best parameters"
      ],
      "metadata": {
        "id": "T7XEp3Bx0ahQ"
      }
    },
    {
      "cell_type": "code",
      "source": [
        "# model = XGBClassifier(gamma = best_parameters['gamma'], \\\n",
        "#                       learning_rate = best_parameters['learning_rate'], \\\n",
        "#                       booster = 'gbtree', \\\n",
        "#                       max_depth = best_parameters['max_depth'], \\\n",
        "#                       n_estimators= best_parameters['n_estimators'])\n",
        "# model.fit(X_train, y_train)\n",
        "# y_pred = model.predict(X_test)\n",
        "# accuracy = accuracy_score(y_test, y_pred)\n",
        "# print(\"Accuracy: {:.2f}%\".format(accuracy*100))\n",
        "# accs = cross_val_score(estimator = model, X = X, y = y, cv=10, scoring='accuracy')\n",
        "# print(\"Mean Accuracy: {:.2f}%\".format(accs.mean()*100))\n",
        "# print(\"Standard Deviation: {:.2f}%\".format(accs.std()*100))"
      ],
      "metadata": {
        "id": "McmY7yfiwj8u"
      },
      "execution_count": null,
      "outputs": []
    },
    {
      "cell_type": "markdown",
      "source": [
        "### LightGBM"
      ],
      "metadata": {
        "id": "-vMP1vG5PQ5o"
      }
    },
    {
      "cell_type": "markdown",
      "source": [
        "#### Building and Training the model"
      ],
      "metadata": {
        "id": "asGvRnQ9QXAI"
      }
    },
    {
      "cell_type": "markdown",
      "source": [
        "##### Building the model"
      ],
      "metadata": {
        "id": "Wzvhc3j8PUtu"
      }
    },
    {
      "cell_type": "code",
      "source": [
        "import lightgbm\n",
        "model = lightgbm.LGBMClassifier(verbose=0, learning_rate=0.08, n_estimators=110, num_leaves=29, random_state = my_random_state )"
      ],
      "metadata": {
        "id": "gYZrs8vj5Tjr"
      },
      "execution_count": null,
      "outputs": []
    },
    {
      "cell_type": "markdown",
      "source": [
        "##### Training the model"
      ],
      "metadata": {
        "id": "bpAn6XVaPUtw"
      }
    },
    {
      "cell_type": "code",
      "source": [
        "# model.fit(X_train, y_train, categorical_feature=['Gender', 'HasCrCard', 'IsActiveMember'])\n",
        "model.fit(X_train, y_train)"
      ],
      "metadata": {
        "id": "kEUoqOKIPUtx"
      },
      "execution_count": null,
      "outputs": []
    },
    {
      "cell_type": "markdown",
      "source": [
        "#### Inference"
      ],
      "metadata": {
        "id": "xDqr88z7PUty"
      }
    },
    {
      "cell_type": "code",
      "source": [
        "y_pred = model.predict(X_test)"
      ],
      "metadata": {
        "id": "KQqik4qBPUty"
      },
      "execution_count": null,
      "outputs": []
    },
    {
      "cell_type": "markdown",
      "metadata": {
        "id": "RrZvmaOXPiug"
      },
      "source": [
        "#### Evaluating the model"
      ]
    },
    {
      "cell_type": "markdown",
      "metadata": {
        "id": "y1nRzv49Piv5"
      },
      "source": [
        "##### Making the Confusion Matrix"
      ]
    },
    {
      "cell_type": "code",
      "source": [
        "from sklearn.metrics import confusion_matrix, ConfusionMatrixDisplay\n",
        "cm = confusion_matrix(y_true=y_test, y_pred=y_pred)\n",
        "gb_confusion_matrices.append(cm)\n",
        "gb_one_accuracy.append(accuracy_score(y_test, y_pred))"
      ],
      "metadata": {
        "id": "EJenpqATPxcR"
      },
      "execution_count": null,
      "outputs": []
    },
    {
      "cell_type": "code",
      "source": [
        "cmd = ConfusionMatrixDisplay(cm)\n",
        "cmd.plot()"
      ],
      "metadata": {
        "id": "uYFe6PtHPxc5"
      },
      "execution_count": null,
      "outputs": []
    },
    {
      "cell_type": "markdown",
      "source": [
        "##### Monkey accuracy"
      ],
      "metadata": {
        "id": "1Dp3dHiUQK7c"
      }
    },
    {
      "cell_type": "code",
      "source": [
        "monkey = 100*sum(cm[0])/cm.sum()\n",
        "print(100*sum(cm[0]))\n",
        "print(\"Accuracy of 0 model: {:.1f}%\".format(monkey))"
      ],
      "metadata": {
        "id": "Xoz9tpn9QK8D"
      },
      "execution_count": null,
      "outputs": []
    },
    {
      "cell_type": "markdown",
      "source": [
        "##### Accuracy"
      ],
      "metadata": {
        "id": "uw2_2mbyPiv8"
      }
    },
    {
      "cell_type": "code",
      "source": [
        "from sklearn.metrics import accuracy_score\n",
        "acc = accuracy_score(y_true=y_test, y_pred=y_pred)\n",
        "print(\"Accuracy on test set: {:.2f}%\".format(acc*100))\n",
        "gb_one_accuracy.append(acc)"
      ],
      "metadata": {
        "id": "x1BkCXaIPiv8"
      },
      "execution_count": null,
      "outputs": []
    },
    {
      "cell_type": "markdown",
      "metadata": {
        "id": "zbPxpRn6PKwe"
      },
      "source": [
        "##### k-Fold Cross Validation and Stratified"
      ]
    },
    {
      "cell_type": "code",
      "execution_count": null,
      "metadata": {
        "collapsed": true,
        "id": "MPkhmRpMPKxN"
      },
      "outputs": [],
      "source": [
        "from sklearn.model_selection import cross_val_score\n",
        "from sklearn.model_selection import StratifiedKFold\n",
        "kf_accs = cross_val_score(estimator=model,X=X_train, y=y_train, cv=kfold_cv)\n",
        "skf = StratifiedKFold(n_splits=kfold_cv, shuffle = True, random_state=my_random_state)\n",
        "skf_accs = cross_val_score(estimator = model,\n",
        "                             X = X_train,\n",
        "                             y = y_train,\n",
        "                             scoring = 'accuracy',\n",
        "                             cv = skf)\n",
        "gb_skf_accuracies.append(skf_accs)\n",
        "gb_accuracies.append(kf_accs)"
      ]
    },
    {
      "cell_type": "markdown",
      "source": [
        "###### Output"
      ],
      "metadata": {
        "id": "wIwfKUQ_PKxO"
      }
    },
    {
      "cell_type": "code",
      "source": [
        "print(\"K-Fold Accuracy: {:.2f} %\".format(kf_accs.mean()*100))\n",
        "print(\"Standard Deviation: {:.2f} %\".format(kf_accs.std()*100))\n",
        "print(kf_accs)\n",
        "print(\"Stratified KF Accuracy: {:.2f} %\".format(skf_accs.mean()*100))\n",
        "print(\"Standard Deviation: {:.2f} %\".format(skf_accs.std()*100))\n",
        "print(skf_accs)"
      ],
      "metadata": {
        "id": "OLhMXf-jPKxP"
      },
      "execution_count": null,
      "outputs": []
    },
    {
      "cell_type": "markdown",
      "source": [
        "##### Repeated Stratified K-Fold Cross Validation"
      ],
      "metadata": {
        "id": "TVt_tBVFNZ4a"
      }
    },
    {
      "cell_type": "code",
      "source": [
        "from sklearn.model_selection import cross_val_score\n",
        "from sklearn.model_selection import RepeatedStratifiedKFold\n",
        "rskf = RepeatedStratifiedKFold(n_splits=kfold_cv, n_repeats=3, random_state = my_random_state)\n",
        "rskf_accs = cross_val_score(estimator=model, \\\n",
        "                     X=X_train, y=y_train, \\\n",
        "                     scoring='accuracy', \\\n",
        "                     cv=rskf)\n",
        "gb_rskf_accuracies.append(rskf_accs)"
      ],
      "metadata": {
        "collapsed": true,
        "id": "8iRq3RK6NZ5B"
      },
      "execution_count": null,
      "outputs": []
    },
    {
      "cell_type": "code",
      "source": [
        "print(\"RSKF Mean Accuracies: {:.2f}%\".format(rskf_accs.mean()*100))\n",
        "print(\"Standard Deviation: {:.2f}%\".format(rskf_accs.std()*100))\n",
        "print(rskf_accs)"
      ],
      "metadata": {
        "id": "WyqiPvMjNZ5C"
      },
      "execution_count": null,
      "outputs": []
    },
    {
      "cell_type": "markdown",
      "source": [
        "#### Grid Search option"
      ],
      "metadata": {
        "id": "mtX0NQ1E13UK"
      }
    },
    {
      "cell_type": "code",
      "source": [
        "# from sklearn.model_selection import GridSearchCV\n",
        "# parameters = [{'num_leaves' : [29, 30, 31, 32, 33], \\\n",
        "#                'learning_rate' : [0.075, 0.08, 0.085, 0.09, 0.095],\n",
        "#                'n_estimators' : [80, 90, 100, 110, 120, 130] \\\n",
        "#                }]\n",
        "# grid = GridSearchCV(estimator=model,\n",
        "#                     param_grid=parameters,\n",
        "#                     scoring='accuracy',\n",
        "#                     cv=10)\n",
        "# grid.fit(X_train, y_train)\n",
        "# best_parameters = grid.best_params_\n",
        "# print(\"Best Score(Accuracy) : {:.3f}%\".format(grid.best_score_*100))\n",
        "# print(\"Best Parameters :\", best_parameters)"
      ],
      "metadata": {
        "id": "-0hr0dvI6T0N"
      },
      "execution_count": null,
      "outputs": []
    },
    {
      "cell_type": "markdown",
      "source": [
        "Find new parameters\n",
        "\n",
        "\n",
        "```\n",
        "Parameters: learning_rate=0.08, n_estimators=110, num_leaves=29\n",
        "```\n",
        "\n"
      ],
      "metadata": {
        "id": "ioI42JBoqLiG"
      }
    },
    {
      "cell_type": "markdown",
      "source": [
        "##### Rerun test set accuracy"
      ],
      "metadata": {
        "id": "g2ur1r6_xTqM"
      }
    },
    {
      "cell_type": "code",
      "source": [
        "# model = lightgbm.LGBMClassifier(num_leaves = best_parameters['num_leaves'], \\\n",
        "#                       learning_rate = best_parameters['learning_rate'], \\\n",
        "#                       n_estimators= best_parameters['n_estimators'],\n",
        "#                       verbose=0)\n",
        "# model.fit(X_train, y_train)\n",
        "# y_pred = model.predict(X_test)\n",
        "# accuracy = accuracy_score(y_test, y_pred)\n",
        "# print(\"Accuracy: {:.2f}%\".format(accuracy*100))\n",
        "# accs = cross_val_score(estimator = model, X = X, y = y, cv=10, scoring='accuracy')\n",
        "# print(\"Mean Accuracy: {:.2f}%\".format(accs.mean()*100))\n",
        "# print(\"Standard Deviation: {:.2f}%\".format(accs.std()*100))"
      ],
      "metadata": {
        "id": "3dsKS9j5CyIi"
      },
      "execution_count": null,
      "outputs": []
    },
    {
      "cell_type": "markdown",
      "source": [
        "## Comparing Gradient Boosting models"
      ],
      "metadata": {
        "id": "cyD0aXkDyT-r"
      }
    },
    {
      "cell_type": "markdown",
      "source": [
        "### Confusion Matrices"
      ],
      "metadata": {
        "id": "FZCvcDl32Z2x"
      }
    },
    {
      "cell_type": "code",
      "source": [
        "print(\"Confusion Matrices\\n\")\n",
        "for i in range(len(gb_models)):\n",
        "  print(gb_models[i])\n",
        "  print(gb_confusion_matrices[i])"
      ],
      "metadata": {
        "id": "c3MrZHTh2Z2y"
      },
      "execution_count": null,
      "outputs": []
    },
    {
      "cell_type": "markdown",
      "source": [
        "### Test Set Accuracy scores"
      ],
      "metadata": {
        "id": "tTwZyZFq2Z2z"
      }
    },
    {
      "cell_type": "code",
      "source": [
        "print(\"Accuracy Scores\\n\")\n",
        "for i in range(len(gb_models)):\n",
        "  print(gb_models[i].ljust(25), \"{:.2f}%\".format(gb_one_accuracy[i]*100))"
      ],
      "metadata": {
        "id": "HLBvV2Nv2Z2z"
      },
      "execution_count": null,
      "outputs": []
    },
    {
      "cell_type": "markdown",
      "source": [
        "### K-Fold Validation Accuracies"
      ],
      "metadata": {
        "id": "Pjf43xf72Z2z"
      }
    },
    {
      "cell_type": "code",
      "source": [
        "print(\"K-Fold Validation\\n\")\n",
        "for i in range(len(gb_models)):\n",
        "  print(gb_models[i].ljust(25), \"Accuracy: {:.2f}% Standard Deviation: {:.2f}%\".format(gb_accuracies[i].mean()*100, gb_accuracies[i].std()*100))"
      ],
      "metadata": {
        "id": "BcZVdoOj2Z20"
      },
      "execution_count": null,
      "outputs": []
    },
    {
      "cell_type": "markdown",
      "source": [
        "### Stratified K-Fold Validation Accuracies"
      ],
      "metadata": {
        "id": "QWkGkLHT27IM"
      }
    },
    {
      "cell_type": "code",
      "source": [
        "print(\"Stratified K-Fold Validation\\n\")\n",
        "for i in range(len(gb_models)):\n",
        "  print(gb_models[i].ljust(25), \"Accuracy: {:.2f}% Standard Deviation: {:.2f}%\".format(gb_skf_accuracies[i].mean()*100, gb_skf_accuracies[i].std()*100))"
      ],
      "metadata": {
        "id": "mUpqvuxx27Iw"
      },
      "execution_count": null,
      "outputs": []
    },
    {
      "cell_type": "markdown",
      "source": [
        "### Repeated Stratified K-Fold Validation Accuracies"
      ],
      "metadata": {
        "id": "jk9Mu6fD28a2"
      }
    },
    {
      "cell_type": "code",
      "source": [
        "print(\"Repeated Stratified K-Fold Validation\\n\")\n",
        "for i in range(len(gb_models)):\n",
        "  print(gb_models[i].ljust(25), \"Accuracy: {:.2f}% Standard Deviation: {:.2f}%\".format(gb_rskf_accuracies[i].mean()*100, gb_rskf_accuracies[i].std()*100))"
      ],
      "metadata": {
        "id": "3M5eTAPb28bZ"
      },
      "execution_count": null,
      "outputs": []
    },
    {
      "cell_type": "markdown",
      "source": [
        "**CatBoost gives the highest accuracy so do grid search using CatBoost to find best parameters**"
      ],
      "metadata": {
        "id": "d0aRLUk9_67r"
      }
    },
    {
      "cell_type": "markdown",
      "metadata": {
        "id": "BBbDYlqS_7Q-"
      },
      "source": [
        "## Grid Search - optimise chosen model hyperparameters"
      ]
    },
    {
      "cell_type": "code",
      "execution_count": null,
      "metadata": {
        "id": "ytZuzp0s_7Q_"
      },
      "outputs": [],
      "source": [
        "# Tune the CatBoost model with the following hyperparameters. The hyperparameters that have the greatest effect on optimizing the CatBoost evaluation metrics are: learning_rate, depth, l2_leaf_reg, and random_strength. For a list of all the CatBoost hyperparameters, see CatBoost hyperparameters.\n",
        "\n",
        "# Parameter Name\tParameter Type\tRecommended Ranges\n",
        "# learning_rate\tContinuousParameterRanges\tMinValue: 0.01, MaxValue: 0.1\n",
        "# depth\tIntegerParameterRanges\tMinValue: 4, MaxValue: 10\n",
        "# l2_leaf_reg\tIntegerParameterRanges\tMinValue: 2, MaxValue: 10\n",
        "# random_strength\tContinuousParameterRanges\tMinValue: 0, MaxValue: 10\n"
      ]
    },
    {
      "cell_type": "code",
      "source": [
        "import catboost as cb\n",
        "from sklearn.model_selection import GridSearchCV\n",
        "model = cb.CatBoostClassifier(verbose = 0, random_state = my_random_state)\n",
        "model.fit(X_train, y_train)\n",
        "# parameters = [{'learning_rate' : [0.01, 0.05, 0.10],\\\n",
        "#                'depth' : [4, 7, 10],\n",
        "#                'l2_leaf_reg' : [2, 6, 10],\n",
        "#                'random_strength' : [0, 4, 8]}]\n",
        "\n",
        "parameters = [{'learning_rate' : [0.006, 0.007, 0.008, 0.009], # initially 0.01, 0.03\n",
        "               'depth' : [8, 9, 10], # initially 4, 10\n",
        "               'l2_leaf_reg' : [2, 3], # initially 2,6\n",
        "               'random_strength' : [0, 0.5]}] # initially 0,4\n",
        "skf = StratifiedKFold(n_splits=kfold_cv, shuffle = True, random_state=my_random_state)\n",
        "\n",
        "grid_search = GridSearchCV(estimator = model,\n",
        "                           param_grid = parameters,\n",
        "                           scoring = 'accuracy',\n",
        "                           cv = skf,\n",
        "                           n_jobs = -1)"
      ],
      "metadata": {
        "id": "yfChd33M_7RA"
      },
      "execution_count": null,
      "outputs": []
    },
    {
      "cell_type": "code",
      "execution_count": null,
      "metadata": {
        "id": "_A4d0BBt_7RA"
      },
      "outputs": [],
      "source": [
        "# The long bit\n",
        "grid_search.fit(X_train, y_train)"
      ]
    },
    {
      "cell_type": "code",
      "source": [
        "best_accuracy = grid_search.best_score_\n",
        "best_parameters = grid_search.best_params_\n",
        "print(\"Best Accuracy: {:.2f} %\".format(best_accuracy*100))\n",
        "print(\"Best Parameters:\", best_parameters)"
      ],
      "metadata": {
        "id": "_wZ1MeFQ_7RB"
      },
      "execution_count": null,
      "outputs": []
    },
    {
      "cell_type": "markdown",
      "source": [
        "Best Accuracy: 95.80%\n",
        "\n",
        "Best Parameters: {'depth': 10, 'l2_leaf_reg': 2, 'learning_rate': 0.01, 'random_strength': 0}"
      ],
      "metadata": {
        "id": "F_ugDE9L_7RB"
      }
    },
    {
      "cell_type": "markdown",
      "source": [
        "## Rerun test set accuracy with best hyperparameters"
      ],
      "metadata": {
        "id": "F2dYnc_X_-cL"
      }
    },
    {
      "cell_type": "code",
      "source": [
        "model = cb.CatBoostClassifier(l2_leaf_reg = best_parameters['l2_leaf_reg'], \\\n",
        "                             learning_rate = best_parameters['learning_rate'], \\\n",
        "                             depth = best_parameters['depth'], \\\n",
        "                             random_strength = best_parameters['random_strength'],\\\n",
        "                             random_state = my_random_state,\\\n",
        "                             verbose=0)\n",
        "model.fit(X_train, y_train)\n",
        "y_pred = model.predict(X_test)\n",
        "accuracy = accuracy_score(y_test, y_pred)\n",
        "print(\"Accuracy: {:.2f}%\".format(accuracy*100))\n",
        "accs = cross_val_score(estimator = model, X = X, y = y, cv=skf, scoring='accuracy')\n",
        "print(\"Mean Accuracy: {:.2f}%\".format(accs.mean()*100))\n",
        "print(\"Standard Deviation: {:.2f}%\".format(accs.std()*100))"
      ],
      "metadata": {
        "id": "yKqbDMGY_7RC"
      },
      "execution_count": null,
      "outputs": []
    },
    {
      "cell_type": "markdown",
      "source": [
        "#### Grid Search for LightGBM"
      ],
      "metadata": {
        "id": "vgAkd7HtAZeh"
      }
    },
    {
      "cell_type": "code",
      "source": [
        "from sklearn.model_selection import GridSearchCV\n",
        "model = lightgbm.LGBMClassifier(verbose=0, random_state = my_random_state )\n",
        "model.fit(X_train, y_train)\n",
        "parameters = [{'num_leaves' : [31, 32, 33, 34], \\\n",
        "               'learning_rate' : [0.01, 0.09, 0.095, 0.1],\n",
        "               'n_estimators' : [100, 105, 110, 115] \\\n",
        "               }]\n",
        "grid = GridSearchCV(estimator=model,\n",
        "                    param_grid=parameters,\n",
        "                    scoring='accuracy',\n",
        "                    cv=skf)\n",
        "grid.fit(X_train, y_train)\n",
        "best_parameters = grid.best_params_\n",
        "print(\"Best Score(Accuracy) : {:.2f}%\".format(grid.best_score_*100))\n",
        "print(\"Best Parameters :\", best_parameters)"
      ],
      "metadata": {
        "id": "2SMf3ZEMAZfI"
      },
      "execution_count": null,
      "outputs": []
    },
    {
      "cell_type": "markdown",
      "source": [
        "Find new parameters\n",
        "\n",
        "\n",
        "```\n",
        "Parameters: learning_rate=0.08, n_estimators=110, num_leaves=29\n",
        "```\n",
        "\n"
      ],
      "metadata": {
        "id": "Dw39p3_cAZfJ"
      }
    },
    {
      "cell_type": "markdown",
      "source": [
        "#### Rerun test set accuracy"
      ],
      "metadata": {
        "id": "na87wnG3AZfK"
      }
    },
    {
      "cell_type": "code",
      "source": [
        "model = lightgbm.LGBMClassifier(num_leaves = best_parameters['num_leaves'], \\\n",
        "                      learning_rate = best_parameters['learning_rate'], \\\n",
        "                      n_estimators= best_parameters['n_estimators'],\n",
        "                      verbose=0)\n",
        "model.fit(X_train, y_train)\n",
        "y_pred = model.predict(X_test)\n",
        "accuracy = accuracy_score(y_test, y_pred)\n",
        "print(\"Accuracy: {:.2f}%\".format(accuracy*100))\n",
        "accs = cross_val_score(estimator = model, X = X, y = y, cv=skf, scoring='accuracy')\n",
        "print(\"Mean Accuracy: {:.2f}%\".format(accs.mean()*100))\n",
        "print(\"Standard Deviation: {:.2f}%\".format(accs.std()*100))"
      ],
      "metadata": {
        "id": "XQFV8QcuAZfL"
      },
      "execution_count": null,
      "outputs": []
    }
  ],
  "metadata": {
    "language_info": {
      "name": "python"
    },
    "colab": {
      "provenance": [],
      "toc_visible": true,
      "include_colab_link": true
    },
    "kernelspec": {
      "name": "python3",
      "display_name": "Python 3"
    }
  },
  "nbformat": 4,
  "nbformat_minor": 0
}