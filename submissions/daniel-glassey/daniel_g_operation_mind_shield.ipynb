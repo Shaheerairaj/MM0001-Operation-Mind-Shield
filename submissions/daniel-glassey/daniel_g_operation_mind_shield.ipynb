{
  "cells": [
    {
      "cell_type": "markdown",
      "metadata": {
        "id": "view-in-github",
        "colab_type": "text"
      },
      "source": [
        "<a href=\"https://colab.research.google.com/github/glasseyes/MM0001-Operation-Mind-Shield/blob/main/submissions/daniel-glassey/daniel_g_operation_mind_shield.ipynb\" target=\"_parent\"><img src=\"https://colab.research.google.com/assets/colab-badge.svg\" alt=\"Open In Colab\"/></a>"
      ]
    },
    {
      "cell_type": "markdown",
      "metadata": {
        "id": "i5x4kclUXBPk"
      },
      "source": [
        "# 🧠 Operation Mind Shield: Decoding Alzheimer's\n",
        "#### **Full Name:** Daniel Glassey\n",
        "#### **Link to SDS Profile:** https://community.superdatascience.com/u/140115de"
      ]
    },
    {
      "cell_type": "markdown",
      "source": [
        "@misc{rabie_el_kharoua_2024,\n",
        "  title={Alzheimer's Disease Dataset},\n",
        "  url={https://www.kaggle.com/dsv/8668279},\n",
        "  DOI={10.34740/KAGGLE/DSV/8668279},\n",
        "  publisher={Kaggle},\n",
        "  author={Rabie El Kharoua},\n",
        "  year={2024}\n",
        "  }"
      ],
      "metadata": {
        "id": "dhxEv9kYzCGV"
      }
    },
    {
      "cell_type": "markdown",
      "source": [
        "## The assignment"
      ],
      "metadata": {
        "id": "dlNYrPZek_Zr"
      }
    },
    {
      "cell_type": "markdown",
      "source": [
        "  Welcome to Operation Mind Shield, data science challenge initiated by SuperDataScience focused on predicting Alzheimer's Disease based on patient data. This mission is designed for data scientists of all\n",
        "  skill levels, with three different Assignments tailored to your expertise. Dive into the dataset, tackle the assignment that best matches your skills, and contribute to this collaborative project.\n",
        "\n",
        "\n",
        "\n",
        "\n",
        "\n"
      ],
      "metadata": {
        "id": "soLP1gC4lLEO"
      }
    },
    {
      "cell_type": "markdown",
      "source": [
        "##  📜 Mission Brief\n",
        "\n",
        "  In this mission, you will work with a dataset on Alzheimer's Disease patients. The goal is to build predictive models to determine the likelihood of a patient having Alzheimer's based on various features.\n",
        "  You'll progress through three phases depending on the assignment level you choose:\n",
        "  - Data Cleaning & Analysis\n",
        "  - Data Preprocessing & Feature Selection\n",
        "  - Model Selection & Fine-Tuning"
      ],
      "metadata": {
        "id": "jnJqUAeal5ot"
      }
    },
    {
      "cell_type": "markdown",
      "source": [
        " ## 🎯 Mission Objectives\n",
        "\n",
        "*   Predict whether a patient has Alzheimer's based on the available features.\n",
        "*   Clean and preprocess the data to improve the performance of your models.\n",
        "*   Train models that best suit your experience level, from simple to highly advanced.\n",
        "*   Evaluate your model's performance using appropriate validation techniques.\n",
        "*   (Advanced Level Only) Deploy your model using a Streamlit App."
      ],
      "metadata": {
        "id": "jCmJDNEvmZzK"
      }
    },
    {
      "cell_type": "markdown",
      "source": [
        " ## 🏆 Assignments\n",
        "  1. Assignment 1: The Initiate (Beginner Level)\n",
        "    - Perform basic data cleaning.\n",
        "    - Build a simple linear model (e.g., Logistic Regression).\n",
        "    - Evaluate your model with a simple test set.\n",
        "\n",
        "  2. Assignment 2: The Specialist (Intermediate Level)\n",
        "    - Conduct elaborate data cleaning with 1 feature selection step.\n",
        "    - Train more advanced models like Gradient Boosting.\n",
        "    - Use k-fold cross-validation for evaluation.\n",
        "    - Perform basic hyperparameter tuning.\n",
        "\n",
        "  3. Assignment 3: The Operative (Advanced Level)\n",
        "    - Engage in advanced data preprocessing (looping feature selection and feature extraction using PCA/LDA).\n",
        "    - Build ensemble models using powerful frameworks (e.g., SageMaker, Azure Machine Learning).\n",
        "    - Perform extensive hyperparameter tuning.\n",
        "    - Evaluate using k-fold cross-validation.\n",
        "    - Deploy your model through a Streamlit App."
      ],
      "metadata": {
        "id": "oQDtj_DLnsE2"
      }
    },
    {
      "cell_type": "markdown",
      "source": [
        " ## The Dataset\n",
        "\n",
        "    - PatientID: A unique identifier assigned to each patient (4751 to 6900).\n",
        "    - Age: The age of the patients ranges from 60 to 90 years.\n",
        "    - Gender: Gender of the patients, where 0 represents Male and 1 represents Female.\n",
        "    - Ethnicity: The ethnicity of the patients, coded as follows:\n",
        "        - 0: Caucasian\n",
        "        - 1: African American\n",
        "        - 2: Asian\n",
        "        - 3: Other\n",
        "    - EducationLevel: The education level of the patients, coded as follows:\n",
        "        - 0: None\n",
        "        - 1: High School\n",
        "        - 2: Bachelor's\n",
        "        - 3: Higher\n",
        "    - BMI: Body Mass Index of the patients, ranging from 15 to 40.\n",
        "    - Smoking: Smoking status, where 0 indicates No and 1 indicates Yes.\n",
        "    - AlcoholConsumption: Weekly alcohol consumption in units, ranging from 0 to 20.\n",
        "    - PhysicalActivity: Weekly physical activity in hours, ranging from 0 to 10.\n",
        "    - DietQuality: Diet quality score, ranging from 0 to 10.\n",
        "    - SleepQuality: Sleep quality score, ranging from 4 to 10.\n",
        "    - FamilyHistoryAlzheimers: Family history of Alzheimer's Disease, where 0 indicates No and 1 indicates Yes.\n",
        "    - CardiovascularDisease: Presence of cardiovascular disease, where 0 indicates No and 1 indicates Yes.\n",
        "    - Diabetes: Presence of diabetes, where 0 indicates No and 1 indicates Yes.\n",
        "    - Depression: Presence of depression, where 0 indicates No and 1 indicates Yes.\n",
        "    - HeadInjury: History of head injury, where 0 indicates No and 1 indicates Yes.\n",
        "    - Hypertension: Presence of hypertension, where 0 indicates No and 1 indicates Yes.\n",
        "    - SystolicBP: Systolic blood pressure, ranging from 90 to 180 mmHg.\n",
        "    - DiastolicBP: Diastolic blood pressure, ranging from 60 to 120 mmHg.\n",
        "    - CholesterolTotal: Total cholesterol levels, ranging from 150 to 300 mg/dL.\n",
        "    - CholesterolLDL: Low-density lipoprotein cholesterol levels, ranging from 50 to 200 mg/dL.\n",
        "    - CholesterolHDL: High-density lipoprotein cholesterol levels, ranging from 20 to 100 mg/dL.\n",
        "    - CholesterolTriglycerides: Triglycerides levels, ranging from 50 to 400 mg/dL.\n",
        "    - MMSE: Mini-Mental State Examination score, ranging from 0 to 30. Lower scores indicate cognitive impairment.\n",
        "    - FunctionalAssessment: Functional assessment score, ranging from 0 to 10. Lower scores indicate greater impairment.\n",
        "    - MemoryComplaints: Presence of memory complaints, where 0 indicates No and 1 indicates Yes.\n",
        "    - BehavioralProblems: Presence of behavioral problems, where 0 indicates No and 1 indicates Yes.\n",
        "    - ADL: Activities of Daily Living score, ranging from 0 to 10. Lower scores indicate greater impairment.\n",
        "    - Confusion: Presence of confusion, where 0 indicates No and 1 indicates Yes.\n",
        "    - Disorientation: Presence of disorientation, where 0 indicates No and 1 indicates Yes.\n",
        "    - PersonalityChanges: Presence of personality changes, where 0 indicates No and 1 indicates Yes.\n",
        "    - DifficultyCompletingTasks: Presence of difficulty completing tasks, where 0 indicates No and 1 indicates Yes.\n",
        "    - Forgetfulness: Presence of forgetfulness, where 0 indicates No and 1 indicates Yes.\n",
        "    - Diagnosis: Diagnosis status for Alzheimer's Disease, where 0 indicates No and 1 indicates Yes.\n",
        "    - DoctorInCharge: This column contains confidential information about the doctor in charge, with \"XXXConfid\" as the value for all patients."
      ],
      "metadata": {
        "id": "NDN_gxcaoX3d"
      }
    },
    {
      "cell_type": "markdown",
      "source": [
        "## 1. Data Preprocessing"
      ],
      "metadata": {
        "id": "equYZFUVsNMr"
      }
    },
    {
      "cell_type": "markdown",
      "source": [
        "### Import Libraries"
      ],
      "metadata": {
        "id": "RvmWlJJKYjKO"
      }
    },
    {
      "cell_type": "code",
      "source": [
        "import pandas as pd\n",
        "import numpy as np\n",
        "import matplotlib.pyplot as plt"
      ],
      "metadata": {
        "id": "jjw0obX2X3Rr"
      },
      "execution_count": null,
      "outputs": []
    },
    {
      "cell_type": "markdown",
      "source": [
        "### Global variables"
      ],
      "metadata": {
        "id": "LX98PO6Ab4QZ"
      }
    },
    {
      "cell_type": "code",
      "source": [
        "kfold_cv = 5\n",
        "my_random_state = 0"
      ],
      "metadata": {
        "id": "3LIbQUzMb-IT"
      },
      "execution_count": null,
      "outputs": []
    },
    {
      "cell_type": "markdown",
      "source": [
        "### Import Data"
      ],
      "metadata": {
        "id": "gX-jicHeYbN1"
      }
    },
    {
      "cell_type": "markdown",
      "source": [
        "The PatientID column and DoctorInCharge columns aren't relevant for the model"
      ],
      "metadata": {
        "id": "z_sU91NIpE_h"
      }
    },
    {
      "cell_type": "code",
      "source": [
        "dataset = pd.read_csv('alzheimers_disease_data.csv')\n",
        "dataset = dataset.drop(['PatientID', 'DoctorInCharge'], axis= 1)"
      ],
      "metadata": {
        "id": "Lu1wVgLaYZUU"
      },
      "execution_count": null,
      "outputs": []
    },
    {
      "cell_type": "code",
      "source": [
        "dataset.head()"
      ],
      "metadata": {
        "id": "VeLb1JNVZRq3"
      },
      "execution_count": null,
      "outputs": []
    },
    {
      "cell_type": "markdown",
      "source": [
        "### Check for missing or duplicated data"
      ],
      "metadata": {
        "id": "AUTd5jvuUKoR"
      }
    },
    {
      "cell_type": "code",
      "source": [
        "# Check dataset info\n",
        "dataset.info()"
      ],
      "metadata": {
        "id": "O0Dua93GSjgG"
      },
      "execution_count": null,
      "outputs": []
    },
    {
      "cell_type": "markdown",
      "source": [
        "All the columns have 2149 non-null entries, so there is no missing data"
      ],
      "metadata": {
        "id": "BFIFUckZS7os"
      }
    },
    {
      "cell_type": "code",
      "source": [
        "dataset = dataset.drop_duplicates(subset=None, keep='first', inplace=False)\n",
        "dataset.info()"
      ],
      "metadata": {
        "id": "HGJc344qUFYD"
      },
      "execution_count": null,
      "outputs": []
    },
    {
      "cell_type": "markdown",
      "source": [
        "No rows have been removed so there are no duplicated rows"
      ],
      "metadata": {
        "id": "8gd4GtZXVDbh"
      }
    },
    {
      "cell_type": "markdown",
      "source": [
        "### List all the columns"
      ],
      "metadata": {
        "id": "sTV4isBxFQzR"
      }
    },
    {
      "cell_type": "code",
      "source": [
        "# columns = list(dataset.columns)\n",
        "# ['Age',\n",
        "#  'Gender',\n",
        "#  'Ethnicity',\n",
        "#  'EducationLevel',\n",
        "#  'BMI',\n",
        "#  'Smoking',\n",
        "#  'AlcoholConsumption',\n",
        "#  'PhysicalActivity',\n",
        "#  'DietQuality',\n",
        "#  'SleepQuality',\n",
        "#  'FamilyHistoryAlzheimers',\n",
        "#  'CardiovascularDisease',\n",
        "#  'Diabetes',\n",
        "#  'Depression',\n",
        "#  'HeadInjury',\n",
        "#  'Hypertension',\n",
        "#  'SystolicBP',\n",
        "#  'DiastolicBP',\n",
        "#  'CholesterolTotal',\n",
        "#  'CholesterolLDL',\n",
        "#  'CholesterolHDL',\n",
        "#  'CholesterolTriglycerides',\n",
        "#  'MMSE',\n",
        "#  'FunctionalAssessment',\n",
        "#  'MemoryComplaints',\n",
        "#  'BehavioralProblems',\n",
        "#  'ADL',\n",
        "#  'Confusion',\n",
        "#  'Disorientation',\n",
        "#  'PersonalityChanges',\n",
        "#  'DifficultyCompletingTasks',\n",
        "#  'Forgetfulness',\n",
        "#  'Diagnosis']"
      ],
      "metadata": {
        "id": "5hS9VzOstS-L"
      },
      "execution_count": null,
      "outputs": []
    },
    {
      "cell_type": "markdown",
      "source": [
        "### Rearrange the columns to group scalable and categorical and binary ones together\n"
      ],
      "metadata": {
        "id": "Twb8b85n6jDv"
      }
    },
    {
      "cell_type": "markdown",
      "source": [
        "In order to encode the categorical data and do feature scaling it is necessary to move columns around so that ones of the same type are grouped together."
      ],
      "metadata": {
        "id": "ylt3TNJxpqse"
      }
    },
    {
      "cell_type": "code",
      "source": [
        "# 0:1\n",
        "categorical_columns = ['Ethnicity', 'EducationLevel']\n",
        "\n",
        "# 2:16\n",
        "scalable_columns = ['Age', 'BMI', 'AlcoholConsumption', 'PhysicalActivity',\\\n",
        "                    'DietQuality', 'SleepQuality', 'SystolicBP', 'DiastolicBP',\\\n",
        "                    'CholesterolTotal', 'CholesterolLDL', 'CholesterolHDL',\n",
        "                    'CholesterolTriglycerides', 'MMSE', 'FunctionalAssessment', 'ADL'\\\n",
        "                   ]\n",
        "# 17:32\n",
        "binary_columns = ['Gender', 'Smoking', 'FamilyHistoryAlzheimers', 'CardiovascularDisease',\\\n",
        "                  'Diabetes', 'Depression', 'HeadInjury', 'Hypertension', 'MemoryComplaints',\\\n",
        "                  'BehavioralProblems', 'Confusion', 'Disorientation', 'PersonalityChanges',\\\n",
        "                  'DifficultyCompletingTasks', 'Forgetfulness', 'Diagnosis'\\\n",
        "                 ]\n",
        "\n",
        "\n",
        "\n",
        "new_columns = categorical_columns + scalable_columns + binary_columns\n",
        "dataset = dataset[new_columns]\n",
        "dataset.head()"
      ],
      "metadata": {
        "id": "Cojk-RbEstgS"
      },
      "execution_count": null,
      "outputs": []
    },
    {
      "cell_type": "code",
      "source": [
        "dataset.tail()"
      ],
      "metadata": {
        "id": "i_cNoLLaf8Du"
      },
      "execution_count": null,
      "outputs": []
    },
    {
      "cell_type": "markdown",
      "source": [
        "### Extract X and y"
      ],
      "metadata": {
        "id": "fhA6wDvFtre4"
      }
    },
    {
      "cell_type": "code",
      "source": [
        "X = dataset.iloc[:,:-1].values\n",
        "y = dataset.iloc[:, -1].values"
      ],
      "metadata": {
        "id": "tE97tVUBtqRQ"
      },
      "execution_count": null,
      "outputs": []
    },
    {
      "cell_type": "markdown",
      "source": [
        "### Encoding categorical data"
      ],
      "metadata": {
        "id": "kOZ4FQRTC5ew"
      }
    },
    {
      "cell_type": "code",
      "source": [
        "from sklearn.compose import ColumnTransformer\n",
        "from sklearn.preprocessing import OneHotEncoder\n",
        "ct = ColumnTransformer(transformers=[('encoder', OneHotEncoder(), [0, 1] )], remainder='passthrough')\n",
        "X = np.array(ct.fit_transform(X))"
      ],
      "metadata": {
        "id": "zN3VR08jTMRp"
      },
      "execution_count": null,
      "outputs": []
    },
    {
      "cell_type": "markdown",
      "source": [
        "### Splitting the dataset into the Training set and Test set"
      ],
      "metadata": {
        "id": "LBaQpsoiGEod"
      }
    },
    {
      "cell_type": "code",
      "source": [
        "# Splitting the dataset into the Training set and Test set\n",
        "from sklearn.model_selection import train_test_split\n",
        "X_train, X_test, y_train, y_test = train_test_split(X, y, test_size=0.2, random_state = my_random_state)"
      ],
      "metadata": {
        "id": "FTHPaYUpGJcn"
      },
      "execution_count": null,
      "outputs": []
    },
    {
      "cell_type": "code",
      "source": [
        "X_train[0]"
      ],
      "metadata": {
        "id": "s-zib0kqD79o"
      },
      "execution_count": null,
      "outputs": []
    },
    {
      "cell_type": "markdown",
      "source": [
        "### Feature Scaling"
      ],
      "metadata": {
        "id": "n2hAGgruG53d"
      }
    },
    {
      "cell_type": "code",
      "source": [
        "from sklearn.preprocessing import StandardScaler\n",
        "sc = StandardScaler()\n",
        "X_train[:, 8:23] = sc.fit_transform(X_train[:, 8:23])\n",
        "X_test[:, 8:23] = sc.transform(X_test[:, 8:23])"
      ],
      "metadata": {
        "id": "f4H0KBFWG-iw"
      },
      "execution_count": null,
      "outputs": []
    },
    {
      "cell_type": "code",
      "source": [
        "X_train[0]"
      ],
      "metadata": {
        "id": "Sf8kY30GGYoW"
      },
      "execution_count": null,
      "outputs": []
    }
  ],
  "metadata": {
    "language_info": {
      "name": "python"
    },
    "colab": {
      "provenance": [],
      "toc_visible": true,
      "include_colab_link": true
    },
    "kernelspec": {
      "name": "python3",
      "display_name": "Python 3"
    }
  },
  "nbformat": 4,
  "nbformat_minor": 0
}