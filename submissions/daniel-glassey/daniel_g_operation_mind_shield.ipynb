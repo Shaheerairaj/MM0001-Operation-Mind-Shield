{
 "cells": [
  {
   "cell_type": "markdown",
   "metadata": {
    "id": "i5x4kclUXBPk"
   },
   "source": [
    "# 🧠 Operation Mind Shield: Decoding Alzheimer's\n",
    "####  **Full Name:** Daniel Glassey\n",
    "####  **Link to SDS Profile:** https://community.superdatascience.com/u/140115de"
   ]
  },
  {
   "cell_type": "markdown",
   "metadata": {
    "id": "dlNYrPZek_Zr"
   },
   "source": [
    "## The assignment"
   ]
  },
  {
   "cell_type": "markdown",
   "metadata": {
    "id": "soLP1gC4lLEO"
   },
   "source": [
    "  Welcome to Operation Mind Shield, data science challenge initiated by SuperDataScience focused on predicting Alzheimer's Disease based on patient data. This mission is designed for data scientists of all\n",
    "  skill levels, with three different Assignments tailored to your expertise. Dive into the dataset, tackle the assignment that best matches your skills, and contribute to this collaborative project.\n",
    "\n",
    "\n",
    "\n",
    "\n",
    "\n"
   ]
  },
  {
   "cell_type": "markdown",
   "metadata": {
    "id": "jnJqUAeal5ot"
   },
   "source": [
    "###  📜 Mission Brief\n",
    "\n",
    "  In this mission, you will work with a dataset on Alzheimer's Disease patients. The goal is to build predictive models to determine the likelihood of a patient having Alzheimer's based on various features.\n",
    "  You'll progress through three phases depending on the assignment level you choose:\n",
    "  - Data Cleaning & Analysis\n",
    "  - Data Preprocessing & Feature Selection\n",
    "  - Model Selection & Fine-Tuning"
   ]
  },
  {
   "cell_type": "markdown",
   "metadata": {
    "id": "jCmJDNEvmZzK"
   },
   "source": [
    "### 🎯 Mission Objectives\n",
    "\n",
    "*   Predict whether a patient has Alzheimer's based on the available features.\n",
    "*   Clean and preprocess the data to improve the performance of your models.\n",
    "*   Train models that best suit your experience level, from simple to highly advanced.\n",
    "*   Evaluate your model's performance using appropriate validation techniques.\n",
    "*   (Advanced Level Only) Deploy your model using a Streamlit App."
   ]
  },
  {
   "cell_type": "markdown",
   "metadata": {
    "id": "oQDtj_DLnsE2"
   },
   "source": [
    "### 🏆 Assignments\n",
    "  1. Assignment 1: The Initiate (Beginner Level)\n",
    "  - Perform basic data cleaning.\n",
    "  - Build a simple linear model (e.g., Logistic Regression).\n",
    "  - Evaluate your model with a simple test set.\n",
    "\n",
    "  2. **Assignment 2: The Specialist (Intermediate Level)**\n",
    "  - **Conduct elaborate data cleaning with 1 feature selection step.**\n",
    "  - **Train more advanced models like Gradient Boosting.**\n",
    "  - **Use k-fold cross-validation for evaluation.**\n",
    "  - **Perform basic hyperparameter tuning.**\n",
    "\n",
    "  3. Assignment 3: The Operative (Advanced Level)\n",
    "  - Engage in advanced data preprocessing (looping feature selection and feature extraction using PCA/LDA).\n",
    "  - Build ensemble models using powerful frameworks (e.g., SageMaker, Azure Machine Learning).\n",
    "  - Perform extensive hyperparameter tuning.\n",
    "  - Evaluate using k-fold cross-validation.\n",
    "  - Deploy your model through a Streamlit App."
   ]
  },
  {
   "cell_type": "markdown",
   "metadata": {},
   "source": [
    "## The Dataset"
   ]
  },
  {
   "cell_type": "markdown",
   "metadata": {
    "id": "dhxEv9kYzCGV"
   },
   "source": [
    "### Dataset Citation\n",
    "\n",
    "**Title:** Alzheimer's Disease Dataset\n",
    "\n",
    "**url:** https://www.kaggle.com/dsv/8668279\n",
    "\n",
    "**DOI:** 10.34740/KAGGLE/DSV/8668279\n",
    "\n",
    "**Publisher:** Kaggle\n",
    "\n",
    "**Author:** Rabie El Kharoua\n",
    "\n",
    "**Year:** 2024"
   ]
  },
  {
   "cell_type": "markdown",
   "metadata": {
    "id": "NDN_gxcaoX3d"
   },
   "source": [
    "### Dataset features\n",
    "\n",
    "- **PatientID:** A unique identifier assigned to each patient (4751 to 6900).\n",
    "- **Age:** The age of the patients ranges from 60 to 90 years.\n",
    "- **Gender:** Gender of the patients, where 0 represents Male and 1 represents Female.\n",
    "- **Ethnicity:** The ethnicity of the patients, coded as follows:\n",
    "    - 0: Caucasian\n",
    "    - 1: African American\n",
    "    - 2: Asian\n",
    "    - 3: Other\n",
    "- **EducationLevel:** The education level of the patients, coded as follows:\n",
    "    - 0: None\n",
    "    - 1: High School\n",
    "    - 2: Bachelor's\n",
    "    - 3: Higher\n",
    "- **BMI:** Body Mass Index of the patients, ranging from 15 to 40.\n",
    "- **Smoking:** Smoking status, where 0 indicates No and 1 indicates Yes.\n",
    "- **AlcoholConsumption:** Weekly alcohol consumption in units, ranging from 0 to 20.\n",
    "- **PhysicalActivity:** Weekly physical activity in hours, ranging from 0 to 10.\n",
    "- **DietQuality:** Diet quality score, ranging from 0 to 10.\n",
    "- **SleepQuality:** Sleep quality score, ranging from 4 to 10.\n",
    "- **FamilyHistoryAlzheimers:** Family history of Alzheimer's Disease, where 0 indicates No and 1 indicates Yes.\n",
    "- **CardiovascularDisease:** Presence of cardiovascular disease, where 0 indicates No and 1 indicates Yes.\n",
    "- **Diabetes:** Presence of diabetes, where 0 indicates No and 1 indicates Yes.\n",
    "- **Depression:** Presence of depression, where 0 indicates No and 1 indicates Yes.\n",
    "- **HeadInjury:** History of head injury, where 0 indicates No and 1 indicates Yes.\n",
    "- **Hypertension:** Presence of hypertension, where 0 indicates No and 1 indicates Yes.\n",
    "- **SystolicBP:** Systolic blood pressure, ranging from 90 to 180 mmHg.\n",
    "- **DiastolicBP:** Diastolic blood pressure, ranging from 60 to 120 mmHg.\n",
    "- **CholesterolTotal:** Total cholesterol levels, ranging from 150 to 300 mg/dL.\n",
    "- **CholesterolLDL:** Low-density lipoprotein cholesterol levels, ranging from 50 to 200 mg/dL.\n",
    "- **CholesterolHDL:** High-density lipoprotein cholesterol levels, ranging from 20 to 100 mg/dL.\n",
    "- **CholesterolTriglycerides:** Triglycerides levels, ranging from 50 to 400 mg/dL.\n",
    "- **MMSE:** Mini-Mental State Examination score, ranging from 0 to 30. Lower scores indicate cognitive impairment.\n",
    "- **FunctionalAssessment:** Functional assessment score, ranging from 0 to 10. Lower scores indicate greater impairment.\n",
    "- **MemoryComplaints:** Presence of memory complaints, where 0 indicates No and 1 indicates Yes.\n",
    "- **BehavioralProblems:** Presence of behavioral problems, where 0 indicates No and 1 indicates Yes.\n",
    "- **ADL:** Activities of Daily Living score, ranging from 0 to 10. Lower scores indicate greater impairment.\n",
    "- **Confusion:** Presence of confusion, where 0 indicates No and 1 indicates Yes.\n",
    "- **Disorientation:** Presence of disorientation, where 0 indicates No and 1 indicates Yes.\n",
    "- **PersonalityChanges:** Presence of personality changes, where 0 indicates No and 1 indicates Yes.\n",
    "- **DifficultyCompletingTasks:** Presence of difficulty completing tasks, where 0 indicates No and 1 indicates Yes.\n",
    "- **Forgetfulness:** Presence of forgetfulness, where 0 indicates No and 1 indicates Yes.\n",
    "- **Diagnosis:** Diagnosis status for Alzheimer's Disease, where 0 indicates No and 1 indicates Yes.\n",
    "- **DoctorInCharge:** This column contains confidential information about the doctor in charge, with \"XXXConfid\" as the value for all patients."
   ]
  },
  {
   "cell_type": "markdown",
   "metadata": {
    "id": "equYZFUVsNMr"
   },
   "source": [
    "## 1. Data Preprocessing"
   ]
  },
  {
   "cell_type": "markdown",
   "metadata": {
    "id": "RvmWlJJKYjKO"
   },
   "source": [
    "### Import Libraries"
   ]
  },
  {
   "cell_type": "code",
   "execution_count": null,
   "metadata": {
    "id": "jjw0obX2X3Rr"
   },
   "outputs": [],
   "source": [
    "import pandas as pd\n",
    "import numpy as np\n",
    "import matplotlib.pyplot as plt"
   ]
  },
  {
   "cell_type": "markdown",
   "metadata": {
    "id": "LX98PO6Ab4QZ"
   },
   "source": [
    "### Global variables"
   ]
  },
  {
   "cell_type": "code",
   "execution_count": null,
   "metadata": {
    "id": "3LIbQUzMb-IT"
   },
   "outputs": [],
   "source": [
    "kfold_cv = 10 # number of folds in K-Fold Cross Validation\n",
    "my_random_state = 777 # set random state for models for consistent runs"
   ]
  },
  {
   "cell_type": "markdown",
   "metadata": {
    "id": "gX-jicHeYbN1"
   },
   "source": [
    "### Import Data"
   ]
  },
  {
   "cell_type": "markdown",
   "metadata": {
    "id": "z_sU91NIpE_h"
   },
   "source": [
    "The PatientID column and DoctorInCharge columns aren't relevant for the model"
   ]
  },
  {
   "cell_type": "code",
   "execution_count": null,
   "metadata": {
    "id": "Lu1wVgLaYZUU"
   },
   "outputs": [],
   "source": [
    "dataset = pd.read_csv('../../data/alzheimers_disease_data.csv')\n",
    "dataset = dataset.drop(['PatientID', 'DoctorInCharge'], axis= 1)"
   ]
  },
  {
   "cell_type": "code",
   "execution_count": null,
   "metadata": {
    "colab": {
     "base_uri": "https://localhost:8080/",
     "height": 256
    },
    "id": "VeLb1JNVZRq3",
    "outputId": "fcf66b27-ef82-47dc-a3e9-0b8a11dd72d9"
   },
   "outputs": [],
   "source": [
    "dataset.head()"
   ]
  },
  {
   "cell_type": "markdown",
   "metadata": {
    "id": "AUTd5jvuUKoR"
   },
   "source": [
    "### Check for missing or duplicated data"
   ]
  },
  {
   "cell_type": "code",
   "execution_count": null,
   "metadata": {
    "colab": {
     "base_uri": "https://localhost:8080/"
    },
    "id": "O0Dua93GSjgG",
    "outputId": "6500e8c4-6ea1-4920-8765-21df56cfc45f"
   },
   "outputs": [],
   "source": [
    "# Check dataset info\n",
    "dataset.info()"
   ]
  },
  {
   "cell_type": "markdown",
   "metadata": {
    "id": "BFIFUckZS7os"
   },
   "source": [
    "All the columns have 2149 non-null entries, so there is no missing data"
   ]
  },
  {
   "cell_type": "code",
   "execution_count": null,
   "metadata": {
    "colab": {
     "base_uri": "https://localhost:8080/"
    },
    "id": "HGJc344qUFYD",
    "outputId": "37f0ed39-eaf7-4e20-f614-71e6e7b64a7f"
   },
   "outputs": [],
   "source": [
    "print(dataset[dataset.duplicated()])"
   ]
  },
  {
   "cell_type": "markdown",
   "metadata": {
    "id": "8gd4GtZXVDbh"
   },
   "source": [
    "There are no duplicated rows"
   ]
  },
  {
   "cell_type": "markdown",
   "metadata": {
    "id": "sTV4isBxFQzR"
   },
   "source": [
    "### List all the columns"
   ]
  },
  {
   "cell_type": "code",
   "execution_count": null,
   "metadata": {
    "id": "5hS9VzOstS-L"
   },
   "outputs": [],
   "source": [
    "# columns = list(dataset.columns)\n",
    "# ['Age',\n",
    "#  'Gender',\n",
    "#  'Ethnicity',\n",
    "#  'EducationLevel',\n",
    "#  'BMI',\n",
    "#  'Smoking',\n",
    "#  'AlcoholConsumption',\n",
    "#  'PhysicalActivity',\n",
    "#  'DietQuality',\n",
    "#  'SleepQuality',\n",
    "#  'FamilyHistoryAlzheimers',\n",
    "#  'CardiovascularDisease',\n",
    "#  'Diabetes',\n",
    "#  'Depression',\n",
    "#  'HeadInjury',\n",
    "#  'Hypertension',\n",
    "#  'SystolicBP',\n",
    "#  'DiastolicBP',\n",
    "#  'CholesterolTotal',\n",
    "#  'CholesterolLDL',\n",
    "#  'CholesterolHDL',\n",
    "#  'CholesterolTriglycerides',\n",
    "#  'MMSE',\n",
    "#  'FunctionalAssessment',\n",
    "#  'MemoryComplaints',\n",
    "#  'BehavioralProblems',\n",
    "#  'ADL',\n",
    "#  'Confusion',\n",
    "#  'Disorientation',\n",
    "#  'PersonalityChanges',\n",
    "#  'DifficultyCompletingTasks',\n",
    "#  'Forgetfulness',\n",
    "#  'Diagnosis']"
   ]
  },
  {
   "cell_type": "markdown",
   "metadata": {
    "id": "Twb8b85n6jDv"
   },
   "source": [
    "### Rearrange the columns to group scalable and categorical and binary ones together\n"
   ]
  },
  {
   "cell_type": "markdown",
   "metadata": {
    "id": "ylt3TNJxpqse"
   },
   "source": [
    "In order to encode the categorical data and do feature scaling it is necessary to move columns around so that ones of the same type are grouped together."
   ]
  },
  {
   "cell_type": "code",
   "execution_count": null,
   "metadata": {
    "id": "Cojk-RbEstgS"
   },
   "outputs": [],
   "source": [
    "# 0:1\n",
    "categorical_columns = ['Ethnicity', 'EducationLevel']\n",
    "\n",
    "# 2:16\n",
    "scalable_columns = ['Age', 'BMI', 'AlcoholConsumption', 'PhysicalActivity',\\\n",
    "                    'DietQuality', 'SleepQuality', 'SystolicBP', 'DiastolicBP',\\\n",
    "                    'CholesterolTotal', 'CholesterolLDL', 'CholesterolHDL',\n",
    "                    'CholesterolTriglycerides', 'MMSE', 'FunctionalAssessment', 'ADL'\\\n",
    "                   ]\n",
    "# 17:32\n",
    "binary_columns = ['Gender', 'Smoking', 'FamilyHistoryAlzheimers', 'CardiovascularDisease',\\\n",
    "                  'Diabetes', 'Depression', 'HeadInjury', 'Hypertension', 'MemoryComplaints',\\\n",
    "                  'BehavioralProblems', 'Confusion', 'Disorientation', 'PersonalityChanges',\\\n",
    "                  'DifficultyCompletingTasks', 'Forgetfulness', 'Diagnosis'\\\n",
    "                 ]\n",
    "\n",
    "assert len(categorical_columns) + len(scalable_columns) + len(binary_columns) == len(dataset.columns)\n",
    "\n",
    "new_columns = categorical_columns + scalable_columns + binary_columns\n",
    "dataset = dataset[new_columns]"
   ]
  },
  {
   "cell_type": "code",
   "execution_count": null,
   "metadata": {
    "colab": {
     "base_uri": "https://localhost:8080/",
     "height": 256
    },
    "id": "i_cNoLLaf8Du",
    "outputId": "b4299e2c-6e94-437a-b92a-2bbdf220ad4a"
   },
   "outputs": [],
   "source": [
    "dataset.tail()"
   ]
  },
  {
   "cell_type": "markdown",
   "metadata": {
    "id": "EvaeXnHb9iDQ"
   },
   "source": [
    "### Find least correlated feature"
   ]
  },
  {
   "cell_type": "code",
   "execution_count": null,
   "metadata": {
    "colab": {
     "base_uri": "https://localhost:8080/",
     "height": 1000
    },
    "id": "RmZzZ_iB47yM",
    "outputId": "0a2e483f-3c19-4706-bfa3-42d0337b86f3"
   },
   "outputs": [],
   "source": [
    "correlation_matrix = dataset.corr()\n",
    "target_correlation = correlation_matrix['Diagnosis'].sort_values(ascending=False, key=abs)\n",
    "# target_correlation = correlation_matrix['Diagnosis'].s\n",
    "print(target_correlation)"
   ]
  },
  {
   "cell_type": "markdown",
   "metadata": {
    "id": "OeIYsNLn9u_A"
   },
   "source": [
    "Forgetfullness is the least correlated so drop it from the dataset\n",
    "\n",
    "FunctionalAssessment, ADL, MemoryComplaints, MMSE and BehavioralProblems are the most significantly correlated, abs more than 0.1. After I choose which gradient boost model to use I will see if similar results can be achieved with just these 5 features."
   ]
  },
  {
   "cell_type": "code",
   "execution_count": null,
   "metadata": {
    "colab": {
     "base_uri": "https://localhost:8080/",
     "height": 256
    },
    "id": "9MyOF0bw91ty",
    "outputId": "050d111f-9a56-4662-9cf8-17eb45626772"
   },
   "outputs": [],
   "source": [
    "dataset = dataset.drop(columns = 'Forgetfulness')\n",
    "dataset.head()\n",
    "\n",
    "# 2:16\n",
    "compact_columns = ['FunctionalAssessment', 'ADL', 'MMSE',\\\n",
    "                    'MemoryComplaints', 'BehavioralProblems', 'Diagnosis'\\\n",
    "                   ]"
   ]
  },
  {
   "cell_type": "markdown",
   "metadata": {
    "id": "fhA6wDvFtre4"
   },
   "source": [
    "### Extract X and y"
   ]
  },
  {
   "cell_type": "code",
   "execution_count": null,
   "metadata": {
    "id": "tE97tVUBtqRQ"
   },
   "outputs": [],
   "source": [
    "X = dataset.iloc[:,:-1].values\n",
    "y = dataset.iloc[:, -1].values"
   ]
  },
  {
   "cell_type": "markdown",
   "metadata": {
    "id": "kOZ4FQRTC5ew"
   },
   "source": [
    "### Encoding categorical data"
   ]
  },
  {
   "cell_type": "code",
   "execution_count": null,
   "metadata": {
    "id": "zN3VR08jTMRp"
   },
   "outputs": [],
   "source": [
    "from sklearn.compose import ColumnTransformer\n",
    "from sklearn.preprocessing import OneHotEncoder\n",
    "ct = ColumnTransformer(transformers=[('encoder', OneHotEncoder(), [0, 1] )], remainder='passthrough')\n",
    "X = np.array(ct.fit_transform(X))"
   ]
  },
  {
   "cell_type": "markdown",
   "metadata": {
    "id": "LBaQpsoiGEod"
   },
   "source": [
    "### Splitting the dataset into the Training set and Test set"
   ]
  },
  {
   "cell_type": "code",
   "execution_count": null,
   "metadata": {
    "id": "FTHPaYUpGJcn"
   },
   "outputs": [],
   "source": [
    "# Splitting the dataset into the Training set and Test set\n",
    "from sklearn.model_selection import train_test_split\n",
    "X_train, X_test, y_train, y_test = train_test_split(X, y, test_size=0.2, random_state = my_random_state)"
   ]
  },
  {
   "cell_type": "code",
   "execution_count": null,
   "metadata": {
    "colab": {
     "base_uri": "https://localhost:8080/"
    },
    "id": "s-zib0kqD79o",
    "outputId": "21348e8a-0dc7-42d8-ecc3-a2f2a6f63319"
   },
   "outputs": [],
   "source": [
    "X_train[0]"
   ]
  },
  {
   "cell_type": "markdown",
   "metadata": {
    "id": "n2hAGgruG53d"
   },
   "source": [
    "### Feature Scaling"
   ]
  },
  {
   "cell_type": "code",
   "execution_count": null,
   "metadata": {
    "id": "f4H0KBFWG-iw"
   },
   "outputs": [],
   "source": [
    "from sklearn.preprocessing import StandardScaler\n",
    "sc = StandardScaler()\n",
    "X_train[:, 8:23] = sc.fit_transform(X_train[:, 8:23])\n",
    "X_test[:, 8:23] = sc.transform(X_test[:, 8:23])"
   ]
  },
  {
   "cell_type": "code",
   "execution_count": null,
   "metadata": {
    "colab": {
     "base_uri": "https://localhost:8080/"
    },
    "id": "Sf8kY30GGYoW",
    "outputId": "031177de-a856-4e90-bfdf-0d6df4110bf2"
   },
   "outputs": [],
   "source": [
    "X_train[0]"
   ]
  },
  {
   "cell_type": "markdown",
   "metadata": {
    "id": "daGI_iijz7QI"
   },
   "source": [
    "## 2. Gradient Boosting models"
   ]
  },
  {
   "cell_type": "markdown",
   "metadata": {
    "id": "_14DhRFP0CT6"
   },
   "source": [
    "### Initialise result variables"
   ]
  },
  {
   "cell_type": "code",
   "execution_count": null,
   "metadata": {
    "id": "Ecf-CR-10CT6"
   },
   "outputs": [],
   "source": [
    "gb_confusion_matrices = [] # confusion matrices\n",
    "gb_accuracies = [] # k-fold accuracies\n",
    "gb_skf_accuracies = [] # k-fold accuracies using stratified folding\n",
    "gb_rskf_accuracies = [] # k-fold accuracies using repeated stratified folding\n",
    "gb_one_accuracy = [] # accuracy on test set\n",
    "gb_models = [\"CatBoost\",\\\n",
    "             \"XGBoost\",\\\n",
    "             \"LightGBM\"\\\n",
    "            ]\n"
   ]
  },
  {
   "cell_type": "markdown",
   "metadata": {
    "id": "EQq8kaIVWCWe"
   },
   "source": [
    "### CatBoost"
   ]
  },
  {
   "cell_type": "markdown",
   "metadata": {
    "id": "9mN88WZuYmXq"
   },
   "source": [
    "#### Building and training the model"
   ]
  },
  {
   "cell_type": "markdown",
   "metadata": {
    "id": "E-wsRF2zYnGC"
   },
   "source": [
    "##### Building the model"
   ]
  },
  {
   "cell_type": "code",
   "execution_count": null,
   "metadata": {
    "colab": {
     "base_uri": "https://localhost:8080/"
    },
    "id": "sjsRBfGbsiIA",
    "outputId": "7ab2111e-8508-4ad7-a0fc-bd532e166318"
   },
   "outputs": [],
   "source": [
    "!pip install catboost"
   ]
  },
  {
   "cell_type": "code",
   "execution_count": null,
   "metadata": {
    "id": "nK2E8nk9siDA"
   },
   "outputs": [],
   "source": [
    "import catboost as cb\n",
    "model = cb.CatBoostClassifier(verbose = 0, random_state = my_random_state)\n",
    "#model = cb.CatBoostClassifier(verbose=0, task_type='GPU')"
   ]
  },
  {
   "cell_type": "markdown",
   "metadata": {
    "id": "-rVZpyt7Y4qg"
   },
   "source": [
    "##### Training the model"
   ]
  },
  {
   "cell_type": "code",
   "execution_count": null,
   "metadata": {
    "colab": {
     "base_uri": "https://localhost:8080/"
    },
    "id": "_7jpEuE5Y7V5",
    "outputId": "df60b54e-281f-4419-dba6-651f1b6a2826"
   },
   "outputs": [],
   "source": [
    "model.fit(X_train, y_train)"
   ]
  },
  {
   "cell_type": "code",
   "execution_count": null,
   "metadata": {
    "id": "agaTN6WCXKCm"
   },
   "outputs": [],
   "source": [
    "# model.calc_feature_statistics(X_train,\n",
    "#                                     y_train,\n",
    "#                                     feature=10,\n",
    "#                                     plot=False)"
   ]
  },
  {
   "cell_type": "markdown",
   "metadata": {
    "id": "otleXDFDZH11"
   },
   "source": [
    "#### Inference"
   ]
  },
  {
   "cell_type": "code",
   "execution_count": null,
   "metadata": {
    "id": "u3LosbxwZIOk"
   },
   "outputs": [],
   "source": [
    "y_pred = model.predict(X_test)"
   ]
  },
  {
   "cell_type": "code",
   "execution_count": null,
   "metadata": {
    "colab": {
     "base_uri": "https://localhost:8080/"
    },
    "id": "OWtIX2uuuom2",
    "outputId": "54ac336c-3a61-42ea-ddc2-1c8ba197f1cb"
   },
   "outputs": [],
   "source": [
    "y_pred"
   ]
  },
  {
   "cell_type": "markdown",
   "metadata": {
    "id": "tJj5k2MxZga3"
   },
   "source": [
    "#### Evaluating the model"
   ]
  },
  {
   "cell_type": "markdown",
   "metadata": {
    "id": "o0oyfLWoaEGw"
   },
   "source": [
    "##### Making the Confusion Matrix"
   ]
  },
  {
   "cell_type": "code",
   "execution_count": null,
   "metadata": {
    "id": "8gYcdMxHMlQU"
   },
   "outputs": [],
   "source": [
    "from sklearn.metrics import confusion_matrix, ConfusionMatrixDisplay\n",
    "cm = confusion_matrix(y_true=y_test, y_pred=y_pred)\n",
    "gb_confusion_matrices.append(cm)"
   ]
  },
  {
   "cell_type": "code",
   "execution_count": null,
   "metadata": {
    "colab": {
     "base_uri": "https://localhost:8080/",
     "height": 466
    },
    "id": "pqyHsqMRMlQ-",
    "outputId": "62de2865-d88d-420d-de74-bcf4dc811d47"
   },
   "outputs": [],
   "source": [
    "cmd = ConfusionMatrixDisplay(cm)\n",
    "cmd.plot()"
   ]
  },
  {
   "cell_type": "markdown",
   "metadata": {
    "id": "eY1TTUpvN-xY"
   },
   "source": [
    "##### Monkey accuracy"
   ]
  },
  {
   "cell_type": "code",
   "execution_count": null,
   "metadata": {
    "colab": {
     "base_uri": "https://localhost:8080/"
    },
    "id": "_4I6o2EHOFD7",
    "outputId": "8d2f82b5-9815-4d34-9dd5-332614e04f8d"
   },
   "outputs": [],
   "source": [
    "monkey = 100*sum(cm[0])/cm.sum()\n",
    "print(100*sum(cm[0]))\n",
    "print(\"Accuracy of 0 model: {:.1f}%\".format(monkey))"
   ]
  },
  {
   "cell_type": "markdown",
   "metadata": {
    "id": "0l_6GuspajAC"
   },
   "source": [
    "##### Accuracy"
   ]
  },
  {
   "cell_type": "code",
   "execution_count": null,
   "metadata": {
    "colab": {
     "base_uri": "https://localhost:8080/"
    },
    "id": "FwpfnF5SaqlS",
    "outputId": "a5b26a7b-c707-49ec-c44c-3ed717c5a2b8"
   },
   "outputs": [],
   "source": [
    "from sklearn.metrics import accuracy_score\n",
    "acc = accuracy_score(y_true=y_test, y_pred=y_pred)\n",
    "print(\"Accuracy on test set: {:.2f}%\".format(acc*100))\n",
    "gb_one_accuracy.append(acc)"
   ]
  },
  {
   "cell_type": "markdown",
   "metadata": {
    "id": "6jn64zWSbiQg"
   },
   "source": [
    "##### k-Fold Cross Validation and Stratified"
   ]
  },
  {
   "cell_type": "code",
   "execution_count": null,
   "metadata": {
    "id": "Ir-SXJJobmpi"
   },
   "outputs": [],
   "source": [
    "from sklearn.model_selection import cross_val_score\n",
    "from sklearn.model_selection import StratifiedKFold\n",
    "kf_accs = cross_val_score(estimator=model,X=X_train, y=y_train, cv=kfold_cv)\n",
    "skf = StratifiedKFold(n_splits=kfold_cv, shuffle = True, random_state=my_random_state)\n",
    "skf_accs = cross_val_score(estimator = model,\n",
    "                             X = X_train,\n",
    "                             y = y_train,\n",
    "                             scoring = 'accuracy',\n",
    "                             cv = skf)\n",
    "gb_skf_accuracies.append(skf_accs)\n",
    "gb_accuracies.append(kf_accs)"
   ]
  },
  {
   "cell_type": "markdown",
   "metadata": {
    "id": "OK5M2KeFKpTo"
   },
   "source": [
    "###### Output"
   ]
  },
  {
   "cell_type": "code",
   "execution_count": null,
   "metadata": {
    "colab": {
     "base_uri": "https://localhost:8080/"
    },
    "id": "Ze3U03r2x29-",
    "outputId": "c29880a8-861f-489a-f35f-f45e7f5f4815"
   },
   "outputs": [],
   "source": [
    "print(\"K-Fold Accuracy: {:.2f} %\".format(kf_accs.mean()*100))\n",
    "print(\"Standard Deviation: {:.2f} %\".format(kf_accs.std()*100))\n",
    "print(kf_accs)\n",
    "print(\"Stratified KF Accuracy: {:.2f} %\".format(skf_accs.mean()*100))\n",
    "print(\"Standard Deviation: {:.2f} %\".format(skf_accs.std()*100))\n",
    "print(skf_accs)"
   ]
  },
  {
   "cell_type": "markdown",
   "metadata": {
    "id": "rtvDVrGjH5ZL"
   },
   "source": [
    "##### Repeated Stratified K-Fold Cross Validation"
   ]
  },
  {
   "cell_type": "code",
   "execution_count": null,
   "metadata": {
    "id": "kg_ChJTkMJ2v"
   },
   "outputs": [],
   "source": [
    "# from sklearn.model_selection import cross_val_score\n",
    "# from sklearn.model_selection import RepeatedStratifiedKFold\n",
    "# rskf = RepeatedStratifiedKFold(n_splits=kfold_cv, n_repeats=3, random_state = my_random_state)\n",
    "# rskf_accs = cross_val_score(estimator=model, \\\n",
    "#                      X=X_train, y=y_train, \\\n",
    "#                      scoring='accuracy', \\\n",
    "#                      cv=rskf)\n",
    "# gb_rskf_accuracies.append(rskf_accs)"
   ]
  },
  {
   "cell_type": "markdown",
   "metadata": {
    "id": "3kBMHhlhLMb2"
   },
   "source": [
    "###### Output"
   ]
  },
  {
   "cell_type": "code",
   "execution_count": null,
   "metadata": {
    "colab": {
     "base_uri": "https://localhost:8080/"
    },
    "id": "UTL1s8V8x7Wt",
    "outputId": "516ba214-5f69-44a8-c30c-058b81f24a4f"
   },
   "outputs": [],
   "source": [
    "# print(\"RSKF Mean Accuracies: {:.2f}%\".format(rskf_accs.mean()*100))\n",
    "# print(\"Standard Deviation: {:.2f}%\".format(rskf_accs.std()*100))\n",
    "# print(rskf_accs)"
   ]
  },
  {
   "cell_type": "markdown",
   "metadata": {
    "id": "h9kU03YPxylY"
   },
   "source": [
    "##### Grid Search option"
   ]
  },
  {
   "cell_type": "code",
   "execution_count": null,
   "metadata": {
    "id": "s-Uo87fSkSue"
   },
   "outputs": [],
   "source": [
    "# Tune the CatBoost model with the following hyperparameters. The hyperparameters that have the greatest effect on optimizing the CatBoost evaluation metrics are: learning_rate, depth, l2_leaf_reg, and random_strength. For a list of all the CatBoost hyperparameters, see CatBoost hyperparameters.\n",
    "\n",
    "# Parameter Name\tParameter Type\tRecommended Ranges\n",
    "# learning_rate\tContinuousParameterRanges\tMinValue: 0.01, MaxValue: 0.1\n",
    "# depth\tIntegerParameterRanges\tMinValue: 4, MaxValue: 10\n",
    "# l2_leaf_reg\tIntegerParameterRanges\tMinValue: 2, MaxValue: 10\n",
    "# random_strength\tContinuousParameterRanges\tMinValue: 0, MaxValue: 10\n"
   ]
  },
  {
   "cell_type": "code",
   "execution_count": null,
   "metadata": {
    "id": "vv-ofoGUd2s1"
   },
   "outputs": [],
   "source": [
    "# from sklearn.model_selection import GridSearchCV\n",
    "# # parameters = [{'learning_rate' : [0.01, 0.05, 0.10],\\\n",
    "# #                'depth' : [4, 7, 10],\n",
    "# #                'l2_leaf_reg' : [2, 6, 10],\n",
    "# #                'random_strength' : [0, 4, 8]}]\n",
    "\n",
    "# parameters = [{'learning_rate' : [0.007, 0.008], # initially 0.01, 0.03\n",
    "#                'depth' : [8, 9, 10], # initially 4, 10\n",
    "#                'l2_leaf_reg' : [2, 3], # initially 2,6\n",
    "#                'random_strength' : [0, 1]}] # initially 0,4\n",
    "# grid_search = GridSearchCV(estimator = model,\n",
    "#                            param_grid = parameters,\n",
    "#                            scoring = 'accuracy',\n",
    "#                            cv = 5,\n",
    "#                            n_jobs = -1)"
   ]
  },
  {
   "cell_type": "code",
   "execution_count": null,
   "metadata": {
    "id": "nxC_ywQ2x1k4"
   },
   "outputs": [],
   "source": [
    "# # The long bit\n",
    "# grid_search.fit(X, y)"
   ]
  },
  {
   "cell_type": "code",
   "execution_count": null,
   "metadata": {
    "id": "k2nr6akydrbz"
   },
   "outputs": [],
   "source": [
    "# best_accuracy = grid_search.best_score_\n",
    "# best_parameters = grid_search.best_params_\n",
    "# print(\"Best Accuracy: {:.2f} %\".format(best_accuracy*100))\n",
    "# print(\"Best Parameters:\", best_parameters)"
   ]
  },
  {
   "cell_type": "markdown",
   "metadata": {
    "id": "2kBwsD3yFrIu"
   },
   "source": [
    "Best Accuracy: 95.80%\n",
    "\n",
    "Best Parameters: {'depth': 10, 'l2_leaf_reg': 2, 'learning_rate': 0.01, 'random_strength': 0}"
   ]
  },
  {
   "cell_type": "code",
   "execution_count": null,
   "metadata": {
    "id": "zcPJbV6LlnNQ"
   },
   "outputs": [],
   "source": [
    "# model = cb.CatBoostClassifier(l2_leaf_reg = 2, \\\n",
    "#                              learning_rate = 0.008, \\\n",
    "#                              depth = 10, \\\n",
    "#                              random_strength = 0,\n",
    "#                              verbose=0)\n",
    "# model.fit(X_train, y_train)\n",
    "# y_pred = model.predict(X_test)\n",
    "# accuracy = accuracy_score(y_test, y_pred)\n",
    "# print(\"Accuracy: {:.2f}%\".format(accuracy*100))\n",
    "# accs = cross_val_score(estimator = model, X = X, y = y, cv=10, scoring='accuracy')\n",
    "# print(\"Mean Accuracy: {:.2f}%\".format(accs.mean()*100))\n",
    "# print(\"Standard Deviation: {:.2f}%\".format(accs.std()*100))"
   ]
  },
  {
   "cell_type": "markdown",
   "metadata": {
    "id": "ZZjvN1JfKK6G"
   },
   "source": [
    "### XGBoost"
   ]
  },
  {
   "cell_type": "markdown",
   "metadata": {
    "id": "kgxAeOrtQrKF"
   },
   "source": [
    "#### Building and Training the model"
   ]
  },
  {
   "cell_type": "markdown",
   "metadata": {
    "id": "0D0blHSQKK6I"
   },
   "source": [
    "##### Building the model"
   ]
  },
  {
   "cell_type": "code",
   "execution_count": null,
   "metadata": {
    "id": "OM2EkDeFXKTd"
   },
   "outputs": [],
   "source": [
    "from xgboost import XGBClassifier\n",
    "model = XGBClassifier()\n",
    "# model = XGBClassifier(n_estimators=50, max_depth=3, learning_rate=0.1, gamma=0)"
   ]
  },
  {
   "cell_type": "markdown",
   "metadata": {
    "id": "0236TBmlKK6K"
   },
   "source": [
    "##### Training the model"
   ]
  },
  {
   "cell_type": "code",
   "execution_count": null,
   "metadata": {
    "colab": {
     "base_uri": "https://localhost:8080/",
     "height": 248
    },
    "id": "R939AbkuXWi7",
    "outputId": "97b2e28e-59c2-4e7a-c9ce-3b3275d617ed"
   },
   "outputs": [],
   "source": [
    "model.fit(X_train, y_train)"
   ]
  },
  {
   "cell_type": "markdown",
   "metadata": {
    "id": "2xCfQgjCKK6M"
   },
   "source": [
    "#### Inference"
   ]
  },
  {
   "cell_type": "code",
   "execution_count": null,
   "metadata": {
    "id": "9nNMS0kJXgIk"
   },
   "outputs": [],
   "source": [
    "y_pred = model.predict(X_test)"
   ]
  },
  {
   "cell_type": "markdown",
   "metadata": {
    "id": "v7SXifJeKpw2"
   },
   "source": [
    "#### Evaluating the model"
   ]
  },
  {
   "cell_type": "markdown",
   "metadata": {
    "id": "1Z7ou7-cKpw3"
   },
   "source": [
    "##### Making the Confusion Matrix"
   ]
  },
  {
   "cell_type": "code",
   "execution_count": null,
   "metadata": {
    "id": "TG3PWDxYaLPR"
   },
   "outputs": [],
   "source": [
    "from sklearn.metrics import confusion_matrix, ConfusionMatrixDisplay\n",
    "cm = confusion_matrix(y_true=y_test, y_pred=y_pred)\n",
    "gb_confusion_matrices.append(cm)"
   ]
  },
  {
   "cell_type": "code",
   "execution_count": null,
   "metadata": {
    "colab": {
     "base_uri": "https://localhost:8080/",
     "height": 466
    },
    "id": "4rmNMg4fa-nl",
    "outputId": "d77bb95e-384e-4d20-8287-3a2f5a033a71"
   },
   "outputs": [],
   "source": [
    "cmd = ConfusionMatrixDisplay(cm)\n",
    "cmd.plot()"
   ]
  },
  {
   "cell_type": "markdown",
   "metadata": {
    "id": "ApEv9hGuQIAK"
   },
   "source": [
    "##### Monkey accuracy"
   ]
  },
  {
   "cell_type": "code",
   "execution_count": null,
   "metadata": {
    "colab": {
     "base_uri": "https://localhost:8080/"
    },
    "id": "NpZ5fGV0QIAx",
    "outputId": "85bd0767-ab4e-4c92-c8ef-2b94e0fe884a"
   },
   "outputs": [],
   "source": [
    "monkey = 100*sum(cm[0])/cm.sum()\n",
    "print(100*sum(cm[0]))\n",
    "print(\"Accuracy of 0 model: {:.1f}%\".format(monkey))"
   ]
  },
  {
   "cell_type": "markdown",
   "metadata": {
    "id": "akrHomHKKpw6"
   },
   "source": [
    "##### Accuracy"
   ]
  },
  {
   "cell_type": "code",
   "execution_count": null,
   "metadata": {
    "colab": {
     "base_uri": "https://localhost:8080/"
    },
    "id": "6XvvdyniaL9G",
    "outputId": "b4d0821e-c611-4c01-bcde-7ef7bf7c2cec"
   },
   "outputs": [],
   "source": [
    "from sklearn.metrics import accuracy_score\n",
    "acc = accuracy_score(y_true=y_test, y_pred=y_pred)\n",
    "print(\"Accuracy on test set: {:.2f}%\".format(acc*100))\n",
    "gb_one_accuracy.append(acc)"
   ]
  },
  {
   "cell_type": "markdown",
   "metadata": {
    "id": "krxvgNAmOv2u"
   },
   "source": [
    "##### k-Fold Cross Validation and Stratified"
   ]
  },
  {
   "cell_type": "code",
   "execution_count": null,
   "metadata": {
    "id": "vZea5SQmOv3U"
   },
   "outputs": [],
   "source": [
    "from sklearn.model_selection import cross_val_score\n",
    "from sklearn.model_selection import StratifiedKFold\n",
    "kf_accs = cross_val_score(estimator=model,X=X_train, y=y_train, cv=kfold_cv)\n",
    "skf = StratifiedKFold(n_splits=kfold_cv, shuffle = True, random_state=my_random_state)\n",
    "skf_accs = cross_val_score(estimator = model,\n",
    "                             X = X_train,\n",
    "                             y = y_train,\n",
    "                             scoring = 'accuracy',\n",
    "                             cv = skf)\n",
    "gb_skf_accuracies.append(skf_accs)\n",
    "gb_accuracies.append(kf_accs)"
   ]
  },
  {
   "cell_type": "markdown",
   "metadata": {
    "id": "WJ1wLLq4Ov3V"
   },
   "source": [
    "###### Output"
   ]
  },
  {
   "cell_type": "code",
   "execution_count": null,
   "metadata": {
    "colab": {
     "base_uri": "https://localhost:8080/"
    },
    "id": "vSw4RkvoOv3W",
    "outputId": "81de4809-50b0-4a27-e72b-1400b20c9f71"
   },
   "outputs": [],
   "source": [
    "print(\"K-Fold Accuracy: {:.2f} %\".format(kf_accs.mean()*100))\n",
    "print(\"Standard Deviation: {:.2f} %\".format(kf_accs.std()*100))\n",
    "print(kf_accs)\n",
    "print(\"Stratified KF Accuracy: {:.2f} %\".format(skf_accs.mean()*100))\n",
    "print(\"Standard Deviation: {:.2f} %\".format(skf_accs.std()*100))\n",
    "print(skf_accs)"
   ]
  },
  {
   "cell_type": "markdown",
   "metadata": {
    "id": "1q-3WoghM6Gp"
   },
   "source": [
    "##### Repeated Stratified K-Fold Cross Validation"
   ]
  },
  {
   "cell_type": "code",
   "execution_count": null,
   "metadata": {
    "id": "mXK6uF4RM6HR"
   },
   "outputs": [],
   "source": [
    "# from sklearn.model_selection import cross_val_score\n",
    "# from sklearn.model_selection import RepeatedStratifiedKFold\n",
    "# rskf = RepeatedStratifiedKFold(n_splits=kfold_cv, n_repeats=3, random_state = my_random_state)\n",
    "# rskf_accs = cross_val_score(estimator=model, \\\n",
    "#                      X=X_train, y=y_train, \\\n",
    "#                      scoring='accuracy', \\\n",
    "#                      cv=rskf)\n",
    "# gb_rskf_accuracies.append(rskf_accs)"
   ]
  },
  {
   "cell_type": "markdown",
   "metadata": {
    "id": "DMspRZSvz8lf"
   },
   "source": [
    "###### Output"
   ]
  },
  {
   "cell_type": "code",
   "execution_count": null,
   "metadata": {
    "colab": {
     "base_uri": "https://localhost:8080/"
    },
    "id": "kLFZnczNM6HS",
    "outputId": "3c1e4933-53d3-4179-d385-96687603112c"
   },
   "outputs": [],
   "source": [
    "# print(\"RSKF Mean Accuracies: {:.2f}%\".format(rskf_accs.mean()*100))\n",
    "# print(\"Standard Deviation: {:.2f}%\".format(rskf_accs.std()*100))\n",
    "# print(rskf_accs)"
   ]
  },
  {
   "cell_type": "markdown",
   "metadata": {
    "id": "v2jM6wTaRAgl"
   },
   "source": [
    "#### Grid Search option"
   ]
  },
  {
   "cell_type": "code",
   "execution_count": null,
   "metadata": {
    "id": "w2cLb1sarlWE"
   },
   "outputs": [],
   "source": [
    "# from sklearn.model_selection import GridSearchCV\n",
    "# classifier = XGBClassifier()\n",
    "# parameters = [{'learning_rate': [0.09, 0.1, 0.11], \\\n",
    "#                'gamma': [0, 0.01], \\\n",
    "#                'n_estimators': [88, 90, 92], \\\n",
    "#                'max_depth': [3, 4, 5]}]\n",
    "# #               'booster': ['gbtree', 'gblinear', 'dart'], \\\n",
    "# grid_search = GridSearchCV(estimator=classifier, \\\n",
    "#                            param_grid=parameters, \\\n",
    "#                            scoring = 'accuracy',\\\n",
    "#                            cv = 10,\\\n",
    "#                            n_jobs = -1)\n",
    "# grid_search.fit(X, y)\n",
    "# best_accuracy = grid_search.best_score_\n",
    "# best_parameters = grid_search.best_params_\n",
    "# print(\"Best Score(Accuracy): {:.2f} %\".format(best_accuracy*100))\n",
    "# print(\"Best Parameters:\", best_parameters)"
   ]
  },
  {
   "cell_type": "markdown",
   "metadata": {
    "id": "CsSdiWLBpXxh"
   },
   "source": [
    "Find new parameters\n",
    "\n",
    "\n",
    "```\n",
    "Parameters: learning_rate=, max_depth=, n_estimators=\n",
    "```\n",
    "\n"
   ]
  },
  {
   "cell_type": "markdown",
   "metadata": {
    "id": "Thjr1jXx0Hk_"
   },
   "source": [
    "###### Re-run test set accuracy"
   ]
  },
  {
   "cell_type": "markdown",
   "metadata": {
    "id": "T7XEp3Bx0ahQ"
   },
   "source": [
    "Using the grid search's best parameters"
   ]
  },
  {
   "cell_type": "code",
   "execution_count": null,
   "metadata": {
    "id": "McmY7yfiwj8u"
   },
   "outputs": [],
   "source": [
    "# model = XGBClassifier(gamma = best_parameters['gamma'], \\\n",
    "#                       learning_rate = best_parameters['learning_rate'], \\\n",
    "#                       booster = 'gbtree', \\\n",
    "#                       max_depth = best_parameters['max_depth'], \\\n",
    "#                       n_estimators= best_parameters['n_estimators'])\n",
    "# model.fit(X_train, y_train)\n",
    "# y_pred = model.predict(X_test)\n",
    "# accuracy = accuracy_score(y_test, y_pred)\n",
    "# print(\"Accuracy: {:.2f}%\".format(accuracy*100))\n",
    "# accs = cross_val_score(estimator = model, X = X, y = y, cv=10, scoring='accuracy')\n",
    "# print(\"Mean Accuracy: {:.2f}%\".format(accs.mean()*100))\n",
    "# print(\"Standard Deviation: {:.2f}%\".format(accs.std()*100))"
   ]
  },
  {
   "cell_type": "markdown",
   "metadata": {
    "id": "-vMP1vG5PQ5o"
   },
   "source": [
    "### LightGBM"
   ]
  },
  {
   "cell_type": "markdown",
   "metadata": {
    "id": "asGvRnQ9QXAI"
   },
   "source": [
    "#### Building and Training the model"
   ]
  },
  {
   "cell_type": "markdown",
   "metadata": {
    "id": "Wzvhc3j8PUtu"
   },
   "source": [
    "##### Building the model"
   ]
  },
  {
   "cell_type": "code",
   "execution_count": null,
   "metadata": {
    "id": "gYZrs8vj5Tjr"
   },
   "outputs": [],
   "source": [
    "import lightgbm\n",
    "model = lightgbm.LGBMClassifier(verbose=0, learning_rate=0.08, n_estimators=110, num_leaves=29, random_state = my_random_state )"
   ]
  },
  {
   "cell_type": "markdown",
   "metadata": {
    "id": "bpAn6XVaPUtw"
   },
   "source": [
    "##### Training the model"
   ]
  },
  {
   "cell_type": "code",
   "execution_count": null,
   "metadata": {
    "colab": {
     "base_uri": "https://localhost:8080/",
     "height": 92
    },
    "id": "kEUoqOKIPUtx",
    "outputId": "46e40cb7-0211-4cce-c354-e0cd302b96c5"
   },
   "outputs": [],
   "source": [
    "# model.fit(X_train, y_train, categorical_feature=['Gender', 'HasCrCard', 'IsActiveMember'])\n",
    "model.fit(X_train, y_train)"
   ]
  },
  {
   "cell_type": "markdown",
   "metadata": {
    "id": "xDqr88z7PUty"
   },
   "source": [
    "#### Inference"
   ]
  },
  {
   "cell_type": "code",
   "execution_count": null,
   "metadata": {
    "id": "KQqik4qBPUty"
   },
   "outputs": [],
   "source": [
    "y_pred = model.predict(X_test)"
   ]
  },
  {
   "cell_type": "markdown",
   "metadata": {
    "id": "RrZvmaOXPiug"
   },
   "source": [
    "#### Evaluating the model"
   ]
  },
  {
   "cell_type": "markdown",
   "metadata": {
    "id": "y1nRzv49Piv5"
   },
   "source": [
    "##### Making the Confusion Matrix"
   ]
  },
  {
   "cell_type": "code",
   "execution_count": null,
   "metadata": {
    "id": "EJenpqATPxcR"
   },
   "outputs": [],
   "source": [
    "from sklearn.metrics import confusion_matrix, ConfusionMatrixDisplay\n",
    "cm = confusion_matrix(y_true=y_test, y_pred=y_pred)\n",
    "gb_confusion_matrices.append(cm)\n",
    "gb_one_accuracy.append(accuracy_score(y_test, y_pred))"
   ]
  },
  {
   "cell_type": "code",
   "execution_count": null,
   "metadata": {
    "colab": {
     "base_uri": "https://localhost:8080/",
     "height": 466
    },
    "id": "uYFe6PtHPxc5",
    "outputId": "29fdf849-67ad-4af5-8a6d-7a21c198dd7a"
   },
   "outputs": [],
   "source": [
    "cmd = ConfusionMatrixDisplay(cm)\n",
    "cmd.plot()"
   ]
  },
  {
   "cell_type": "markdown",
   "metadata": {
    "id": "1Dp3dHiUQK7c"
   },
   "source": [
    "##### Monkey accuracy"
   ]
  },
  {
   "cell_type": "code",
   "execution_count": null,
   "metadata": {
    "colab": {
     "base_uri": "https://localhost:8080/"
    },
    "id": "Xoz9tpn9QK8D",
    "outputId": "158568e2-bd2d-4af0-f6fa-36bedb60cd96"
   },
   "outputs": [],
   "source": [
    "monkey = 100*sum(cm[0])/cm.sum()\n",
    "print(100*sum(cm[0]))\n",
    "print(\"Accuracy of 0 model: {:.1f}%\".format(monkey))"
   ]
  },
  {
   "cell_type": "markdown",
   "metadata": {
    "id": "uw2_2mbyPiv8"
   },
   "source": [
    "##### Accuracy"
   ]
  },
  {
   "cell_type": "code",
   "execution_count": null,
   "metadata": {
    "colab": {
     "base_uri": "https://localhost:8080/"
    },
    "id": "x1BkCXaIPiv8",
    "outputId": "eca79ce3-810c-4e2b-9eb8-3de2b177ee68"
   },
   "outputs": [],
   "source": [
    "from sklearn.metrics import accuracy_score\n",
    "acc = accuracy_score(y_true=y_test, y_pred=y_pred)\n",
    "print(\"Accuracy on test set: {:.2f}%\".format(acc*100))\n",
    "gb_one_accuracy.append(acc)"
   ]
  },
  {
   "cell_type": "markdown",
   "metadata": {
    "id": "zbPxpRn6PKwe"
   },
   "source": [
    "##### k-Fold Cross Validation and Stratified"
   ]
  },
  {
   "cell_type": "code",
   "execution_count": null,
   "metadata": {
    "id": "MPkhmRpMPKxN"
   },
   "outputs": [],
   "source": [
    "from sklearn.model_selection import cross_val_score\n",
    "from sklearn.model_selection import StratifiedKFold\n",
    "kf_accs = cross_val_score(estimator=model,X=X_train, y=y_train, cv=kfold_cv)\n",
    "skf = StratifiedKFold(n_splits=kfold_cv, shuffle = True, random_state=my_random_state)\n",
    "skf_accs = cross_val_score(estimator = model,\n",
    "                             X = X_train,\n",
    "                             y = y_train,\n",
    "                             scoring = 'accuracy',\n",
    "                             cv = skf)\n",
    "gb_skf_accuracies.append(skf_accs)\n",
    "gb_accuracies.append(kf_accs)"
   ]
  },
  {
   "cell_type": "markdown",
   "metadata": {
    "id": "wIwfKUQ_PKxO"
   },
   "source": [
    "###### Output"
   ]
  },
  {
   "cell_type": "code",
   "execution_count": null,
   "metadata": {
    "colab": {
     "base_uri": "https://localhost:8080/"
    },
    "id": "OLhMXf-jPKxP",
    "outputId": "7b395ac0-e38d-403a-a82d-46d16c9e1be2"
   },
   "outputs": [],
   "source": [
    "print(\"K-Fold Accuracy: {:.2f} %\".format(kf_accs.mean()*100))\n",
    "print(\"Standard Deviation: {:.2f} %\".format(kf_accs.std()*100))\n",
    "print(kf_accs)\n",
    "print(\"Stratified KF Accuracy: {:.2f} %\".format(skf_accs.mean()*100))\n",
    "print(\"Standard Deviation: {:.2f} %\".format(skf_accs.std()*100))\n",
    "print(skf_accs)"
   ]
  },
  {
   "cell_type": "markdown",
   "metadata": {
    "id": "TVt_tBVFNZ4a"
   },
   "source": [
    "##### Repeated Stratified K-Fold Cross Validation"
   ]
  },
  {
   "cell_type": "code",
   "execution_count": null,
   "metadata": {
    "id": "8iRq3RK6NZ5B"
   },
   "outputs": [],
   "source": [
    "# from sklearn.model_selection import cross_val_score\n",
    "# from sklearn.model_selection import RepeatedStratifiedKFold\n",
    "# rskf = RepeatedStratifiedKFold(n_splits=kfold_cv, n_repeats=3, random_state = my_random_state)\n",
    "# rskf_accs = cross_val_score(estimator=model, \\\n",
    "#                      X=X_train, y=y_train, \\\n",
    "#                      scoring='accuracy', \\\n",
    "#                      cv=rskf)\n",
    "# gb_rskf_accuracies.append(rskf_accs)"
   ]
  },
  {
   "cell_type": "code",
   "execution_count": null,
   "metadata": {
    "colab": {
     "base_uri": "https://localhost:8080/"
    },
    "id": "WyqiPvMjNZ5C",
    "outputId": "c8cb58fd-0aee-419d-f8e8-59d72bed2998"
   },
   "outputs": [],
   "source": [
    "# print(\"RSKF Mean Accuracies: {:.2f}%\".format(rskf_accs.mean()*100))\n",
    "# print(\"Standard Deviation: {:.2f}%\".format(rskf_accs.std()*100))\n",
    "# print(rskf_accs)"
   ]
  },
  {
   "cell_type": "markdown",
   "metadata": {
    "id": "mtX0NQ1E13UK"
   },
   "source": [
    "#### Grid Search option"
   ]
  },
  {
   "cell_type": "code",
   "execution_count": null,
   "metadata": {
    "id": "-0hr0dvI6T0N"
   },
   "outputs": [],
   "source": [
    "# from sklearn.model_selection import GridSearchCV\n",
    "# parameters = [{'num_leaves' : [29, 30, 31, 32, 33], \\\n",
    "#                'learning_rate' : [0.075, 0.08, 0.085, 0.09, 0.095],\n",
    "#                'n_estimators' : [80, 90, 100, 110, 120, 130] \\\n",
    "#                }]\n",
    "# grid = GridSearchCV(estimator=model,\n",
    "#                     param_grid=parameters,\n",
    "#                     scoring='accuracy',\n",
    "#                     cv=10)\n",
    "# grid.fit(X_train, y_train)\n",
    "# best_parameters = grid.best_params_\n",
    "# print(\"Best Score(Accuracy) : {:.3f}%\".format(grid.best_score_*100))\n",
    "# print(\"Best Parameters :\", best_parameters)"
   ]
  },
  {
   "cell_type": "markdown",
   "metadata": {
    "id": "ioI42JBoqLiG"
   },
   "source": [
    "Find new parameters\n",
    "\n",
    "\n",
    "```\n",
    "Parameters: learning_rate=0.08, n_estimators=110, num_leaves=29\n",
    "```\n",
    "\n"
   ]
  },
  {
   "cell_type": "markdown",
   "metadata": {
    "id": "g2ur1r6_xTqM"
   },
   "source": [
    "##### Rerun test set accuracy"
   ]
  },
  {
   "cell_type": "code",
   "execution_count": null,
   "metadata": {
    "id": "3dsKS9j5CyIi"
   },
   "outputs": [],
   "source": [
    "# model = lightgbm.LGBMClassifier(num_leaves = best_parameters['num_leaves'], \\\n",
    "#                       learning_rate = best_parameters['learning_rate'], \\\n",
    "#                       n_estimators= best_parameters['n_estimators'],\n",
    "#                       verbose=0)\n",
    "# model.fit(X_train, y_train)\n",
    "# y_pred = model.predict(X_test)\n",
    "# accuracy = accuracy_score(y_test, y_pred)\n",
    "# print(\"Accuracy: {:.2f}%\".format(accuracy*100))\n",
    "# accs = cross_val_score(estimator = model, X = X, y = y, cv=10, scoring='accuracy')\n",
    "# print(\"Mean Accuracy: {:.2f}%\".format(accs.mean()*100))\n",
    "# print(\"Standard Deviation: {:.2f}%\".format(accs.std()*100))"
   ]
  },
  {
   "cell_type": "markdown",
   "metadata": {
    "id": "cyD0aXkDyT-r"
   },
   "source": [
    "## 3. Comparing Gradient Boosting models"
   ]
  },
  {
   "cell_type": "markdown",
   "metadata": {
    "id": "FZCvcDl32Z2x"
   },
   "source": [
    "### Confusion Matrices"
   ]
  },
  {
   "cell_type": "code",
   "execution_count": null,
   "metadata": {
    "colab": {
     "base_uri": "https://localhost:8080/"
    },
    "id": "c3MrZHTh2Z2y",
    "outputId": "dacd8325-5857-4a48-c543-1d018c0c6e27"
   },
   "outputs": [],
   "source": [
    "print(\"Confusion Matrices\\n\")\n",
    "for i in range(len(gb_models)):\n",
    "  print(gb_models[i])\n",
    "  print(gb_confusion_matrices[i])"
   ]
  },
  {
   "cell_type": "markdown",
   "metadata": {
    "id": "tTwZyZFq2Z2z"
   },
   "source": [
    "### Test Set Accuracy scores"
   ]
  },
  {
   "cell_type": "code",
   "execution_count": null,
   "metadata": {
    "colab": {
     "base_uri": "https://localhost:8080/"
    },
    "id": "HLBvV2Nv2Z2z",
    "outputId": "d7e8185a-7583-4f8b-e62a-3cb04b546229"
   },
   "outputs": [],
   "source": [
    "print(\"Accuracy Scores\\n\")\n",
    "for i in range(len(gb_models)):\n",
    "  print(gb_models[i].ljust(25), \"{:.2f}%\".format(gb_one_accuracy[i]*100))"
   ]
  },
  {
   "cell_type": "markdown",
   "metadata": {
    "id": "Pjf43xf72Z2z"
   },
   "source": [
    "### K-Fold Validation Accuracies"
   ]
  },
  {
   "cell_type": "code",
   "execution_count": null,
   "metadata": {
    "colab": {
     "base_uri": "https://localhost:8080/"
    },
    "id": "BcZVdoOj2Z20",
    "outputId": "17a24257-49bb-4157-ec63-1722a6113683"
   },
   "outputs": [],
   "source": [
    "print(\"K-Fold Validation\\n\")\n",
    "for i in range(len(gb_models)):\n",
    "  print(gb_models[i].ljust(25), \"Accuracy: {:.2f}% Standard Deviation: {:.2f}%\".format(gb_accuracies[i].mean()*100, gb_accuracies[i].std()*100))"
   ]
  },
  {
   "cell_type": "markdown",
   "metadata": {
    "id": "QWkGkLHT27IM"
   },
   "source": [
    "### Stratified K-Fold Validation Accuracies"
   ]
  },
  {
   "cell_type": "code",
   "execution_count": null,
   "metadata": {
    "colab": {
     "base_uri": "https://localhost:8080/"
    },
    "id": "mUpqvuxx27Iw",
    "outputId": "f5099f2f-958f-44a6-f427-0abce74bec51"
   },
   "outputs": [],
   "source": [
    "print(\"Stratified K-Fold Validation\\n\")\n",
    "for i in range(len(gb_models)):\n",
    "  print(gb_models[i].ljust(25), \"Accuracy: {:.2f}% Standard Deviation: {:.2f}%\".format(gb_skf_accuracies[i].mean()*100, gb_skf_accuracies[i].std()*100))"
   ]
  },
  {
   "cell_type": "markdown",
   "metadata": {
    "id": "jk9Mu6fD28a2"
   },
   "source": [
    "### Repeated Stratified K-Fold Validation Accuracies"
   ]
  },
  {
   "cell_type": "code",
   "execution_count": null,
   "metadata": {
    "colab": {
     "base_uri": "https://localhost:8080/"
    },
    "id": "3M5eTAPb28bZ",
    "outputId": "68912175-c358-4f97-b68c-ff5ab4ef25b9"
   },
   "outputs": [],
   "source": [
    "# print(\"Repeated Stratified K-Fold Validation\\n\")\n",
    "# for i in range(len(gb_models)):\n",
    "#   print(gb_models[i].ljust(25), \"Accuracy: {:.2f}% Standard Deviation: {:.2f}%\".format(gb_rskf_accuracies[i].mean()*100, gb_rskf_accuracies[i].std()*100))"
   ]
  },
  {
   "cell_type": "markdown",
   "metadata": {
    "id": "d0aRLUk9_67r"
   },
   "source": [
    "**CatBoost gives the highest accuracy so do grid search using CatBoost to find best parameters**"
   ]
  },
  {
   "cell_type": "markdown",
   "metadata": {},
   "source": [
    "## 4. Test with compact 5 feature dataset"
   ]
  },
  {
   "cell_type": "markdown",
   "metadata": {},
   "source": [
    "### Initialise compact dataset"
   ]
  },
  {
   "cell_type": "code",
   "execution_count": null,
   "metadata": {},
   "outputs": [],
   "source": [
    "compact_df = dataset[compact_columns]\n",
    "compact_df.head()"
   ]
  },
  {
   "cell_type": "markdown",
   "metadata": {},
   "source": [
    "### Extract Xc and Yc"
   ]
  },
  {
   "cell_type": "code",
   "execution_count": null,
   "metadata": {},
   "outputs": [],
   "source": [
    "#Extract Xc and Yc\n",
    "Xc = compact_df.iloc[:,:-1].values\n",
    "yc = compact_df.iloc[:, -1].values"
   ]
  },
  {
   "cell_type": "markdown",
   "metadata": {},
   "source": [
    "### Get training and test sets"
   ]
  },
  {
   "cell_type": "code",
   "execution_count": null,
   "metadata": {},
   "outputs": [],
   "source": [
    "# Splitting the dataset into the Training set and Test set\n",
    "from sklearn.model_selection import train_test_split\n",
    "Xc_train, Xc_test, yc_train, yc_test = train_test_split(Xc, yc, test_size=0.2, random_state = my_random_state)\n",
    "# Without Feature scaling\n",
    "# sc_compact = StandardScaler()\n",
    "# Xc_train[:, 0:3] = sc_compact.fit_transform(Xc_train[:, 0:3])\n",
    "# Xc_test[:, 0:3] = sc_compact.transform(Xc_test[:, 0:3])\n",
    "# Xc_train\n",
    "# Xc_train = sc_compact.fit_transform(Xc_train)\n",
    "# Xc_test = sc_compact.transform(Xc_test)\n",
    "Xc_train"
   ]
  },
  {
   "cell_type": "markdown",
   "metadata": {},
   "source": [
    "### Create, fit and predict model"
   ]
  },
  {
   "cell_type": "code",
   "execution_count": null,
   "metadata": {},
   "outputs": [],
   "source": [
    "import catboost as cb\n",
    "model = cb.CatBoostClassifier(verbose = 0, random_state = my_random_state)\n",
    "model.fit(Xc_train, yc_train)\n",
    "yc_pred = model.predict(Xc_test)"
   ]
  },
  {
   "cell_type": "markdown",
   "metadata": {},
   "source": [
    "### Confusion Matrix"
   ]
  },
  {
   "cell_type": "code",
   "execution_count": null,
   "metadata": {},
   "outputs": [],
   "source": [
    "from sklearn.metrics import confusion_matrix, ConfusionMatrixDisplay\n",
    "cm = confusion_matrix(y_true=yc_test, y_pred=yc_pred)\n",
    "cmd = ConfusionMatrixDisplay(cm)\n",
    "cmd.plot()"
   ]
  },
  {
   "cell_type": "markdown",
   "metadata": {},
   "source": [
    "### Test set accuracy"
   ]
  },
  {
   "cell_type": "code",
   "execution_count": null,
   "metadata": {},
   "outputs": [],
   "source": [
    "from sklearn.metrics import accuracy_score\n",
    "acc = accuracy_score(y_true=yc_test, y_pred=yc_pred)\n",
    "print(\"Accuracy on test set: {:.2f}%\".format(acc*100))"
   ]
  },
  {
   "cell_type": "markdown",
   "metadata": {},
   "source": [
    "### K-fold cross validation"
   ]
  },
  {
   "cell_type": "code",
   "execution_count": null,
   "metadata": {},
   "outputs": [],
   "source": [
    "from sklearn.model_selection import cross_val_score\n",
    "# from sklearn.model_selection import StratifiedKFold\n",
    "kf_accs = cross_val_score(estimator=model,X=Xc_train, y=yc_train, cv=kfold_cv)\n",
    "# skf = StratifiedKFold(n_splits=kfold_cv, shuffle = True, random_state=my_random_state)\n",
    "# skf_accs = cross_val_score(estimator = model,\n",
    "#                              X = X_train,\n",
    "#                              y = y_train,\n",
    "#                              scoring = 'accuracy',\n",
    "#                              cv = skf)"
   ]
  },
  {
   "cell_type": "code",
   "execution_count": null,
   "metadata": {},
   "outputs": [],
   "source": [
    "print(\"K-Fold Accuracy: {:.2f} %\".format(kf_accs.mean()*100))\n",
    "print(\"Standard Deviation: {:.2f} %\".format(kf_accs.std()*100))\n",
    "print(kf_accs)\n",
    "# print(\"Stratified KF Accuracy: {:.2f} %\".format(skf_accs.mean()*100))\n",
    "# print(\"Standard Deviation: {:.2f} %\".format(skf_accs.std()*100))\n",
    "# print(skf_accs)"
   ]
  },
  {
   "cell_type": "code",
   "execution_count": null,
   "metadata": {},
   "outputs": [],
   "source": [
    "import lightgbm\n",
    "model = lightgbm.LGBMClassifier(verbose=0, learning_rate=0.08, n_estimators=110, num_leaves=29, random_state = my_random_state )\n",
    "model.fit(Xc_train, yc_train)\n",
    "yc_pred = model.predict(Xc_test)\n",
    "cm = confusion_matrix(y_true=yc_test, y_pred=yc_pred)\n",
    "cmd = ConfusionMatrixDisplay(cm)\n",
    "cmd.plot()"
   ]
  },
  {
   "cell_type": "code",
   "execution_count": null,
   "metadata": {},
   "outputs": [],
   "source": [
    "from sklearn.metrics import accuracy_score\n",
    "acc = accuracy_score(y_true=yc_test, y_pred=yc_pred)\n",
    "print(\"Accuracy on test set: {:.2f}%\".format(acc*100))"
   ]
  },
  {
   "cell_type": "code",
   "execution_count": null,
   "metadata": {},
   "outputs": [],
   "source": [
    "from sklearn.model_selection import cross_val_score\n",
    "# from sklearn.model_selection import StratifiedKFold\n",
    "kf_accs = cross_val_score(estimator=model,X=Xc_train, y=yc_train, cv=kfold_cv)\n",
    "# skf = StratifiedKFold(n_splits=kfold_cv, shuffle = True, random_state=my_random_state)\n",
    "# skf_accs = cross_val_score(estimator = model,\n",
    "#                              X = X_train,\n",
    "#                              y = y_train,\n",
    "#                              scoring = 'accuracy',\n",
    "#                              cv = skf)"
   ]
  },
  {
   "cell_type": "code",
   "execution_count": null,
   "metadata": {},
   "outputs": [],
   "source": [
    "print(\"K-Fold Accuracy: {:.2f} %\".format(kf_accs.mean()*100))\n",
    "print(\"Standard Deviation: {:.2f} %\".format(kf_accs.std()*100))\n",
    "print(kf_accs)\n",
    "# print(\"Stratified KF Accuracy: {:.2f} %\".format(skf_accs.mean()*100))\n",
    "# print(\"Standard Deviation: {:.2f} %\".format(skf_accs.std()*100))\n",
    "# print(skf_accs)"
   ]
  },
  {
   "cell_type": "markdown",
   "metadata": {
    "id": "BBbDYlqS_7Q-"
   },
   "source": [
    "## 5. Grid Search - optimise chosen model hyperparameters"
   ]
  },
  {
   "cell_type": "code",
   "execution_count": null,
   "metadata": {
    "id": "ytZuzp0s_7Q_"
   },
   "outputs": [],
   "source": [
    "# Tune the CatBoost model with the following hyperparameters. The hyperparameters that have the greatest effect on optimizing the CatBoost evaluation metrics are: learning_rate, depth, l2_leaf_reg, and random_strength. For a list of all the CatBoost hyperparameters, see CatBoost hyperparameters.\n",
    "\n",
    "# Parameter Name\tParameter Type\tRecommended Ranges\n",
    "# learning_rate\tContinuousParameterRanges\tMinValue: 0.01, MaxValue: 0.1\n",
    "# depth\tIntegerParameterRanges\tMinValue: 4, MaxValue: 10\n",
    "# l2_leaf_reg\tIntegerParameterRanges\tMinValue: 2, MaxValue: 10\n",
    "# random_strength\tContinuousParameterRanges\tMinValue: 0, MaxValue: 10\n"
   ]
  },
  {
   "cell_type": "code",
   "execution_count": null,
   "metadata": {
    "id": "yfChd33M_7RA"
   },
   "outputs": [],
   "source": [
    "# import catboost as cb\n",
    "# from sklearn.model_selection import GridSearchCV\n",
    "# model = cb.CatBoostClassifier(verbose = 0, random_state = my_random_state)\n",
    "# model.fit(Xc_train, yc_train)\n",
    "# parameters = [{'learning_rate' : [0.01, 0.05, 0.10],\\\n",
    "#                'depth' : [4, 7, 10],\n",
    "#                'l2_leaf_reg' : [2, 6, 10],\n",
    "#                'random_strength' : [0, 4, 8]}]\n",
    "\n",
    "# # parameters = [{'learning_rate' : [0.006, 0.007, 0.008, 0.009], # initially 0.01, 0.03\n",
    "# #                'depth' : [8, 9, 10], # initially 4, 10\n",
    "# #                'l2_leaf_reg' : [2, 3], # initially 2,6\n",
    "# #                'random_strength' : [0, 0.5]}] # initially 0,4\n",
    "# skf = StratifiedKFold(n_splits=kfold_cv, shuffle = True, random_state=my_random_state)\n",
    "\n",
    "# grid_search = GridSearchCV(estimator = model,\n",
    "#                            param_grid = parameters,\n",
    "#                            scoring = 'accuracy',\n",
    "#                            cv = skf,\n",
    "#                            n_jobs = -1)"
   ]
  },
  {
   "cell_type": "code",
   "execution_count": null,
   "metadata": {
    "id": "_A4d0BBt_7RA"
   },
   "outputs": [],
   "source": [
    "# The long bit\n",
    "# grid_search.fit(X_train, y_train)"
   ]
  },
  {
   "cell_type": "code",
   "execution_count": null,
   "metadata": {
    "id": "_wZ1MeFQ_7RB"
   },
   "outputs": [],
   "source": [
    "# best_accuracy = grid_search.best_score_\n",
    "# best_parameters = grid_search.best_params_\n",
    "# print(\"Best Accuracy: {:.2f} %\".format(best_accuracy*100))\n",
    "# print(\"Best Parameters:\", best_parameters)"
   ]
  },
  {
   "cell_type": "markdown",
   "metadata": {
    "id": "F_ugDE9L_7RB"
   },
   "source": [
    "Best Accuracy: 95.80%\n",
    "\n",
    "Best Parameters: {'depth': 10, 'l2_leaf_reg': 2, 'learning_rate': 0.01, 'random_strength': 0}"
   ]
  },
  {
   "cell_type": "markdown",
   "metadata": {
    "id": "F2dYnc_X_-cL"
   },
   "source": [
    "### Rerun test set accuracy"
   ]
  },
  {
   "cell_type": "markdown",
   "metadata": {
    "id": "6oo9m_6IaAua"
   },
   "source": [
    "With best parameters from grid search"
   ]
  },
  {
   "cell_type": "code",
   "execution_count": null,
   "metadata": {
    "id": "yKqbDMGY_7RC"
   },
   "outputs": [],
   "source": [
    "# model = cb.CatBoostClassifier(l2_leaf_reg = best_parameters['l2_leaf_reg'], \\\n",
    "#                              learning_rate = best_parameters['learning_rate'], \\\n",
    "#                              depth = best_parameters['depth'], \\\n",
    "#                              random_strength = best_parameters['random_strength'],\\\n",
    "#                              random_state = my_random_state,\\\n",
    "#                              verbose=0)\n",
    "# model.fit(Xc_train, yc_train)\n",
    "# yc_pred = model.predict(Xc_test)\n",
    "# accuracy = accuracy_score(yc_test, yc_pred)\n",
    "# print(\"Accuracy: {:.2f}%\".format(accuracy*100))\n",
    "# accs = cross_val_score(estimator = model, X = Xc, y = yc, cv=kfold_cv, scoring='accuracy')\n",
    "# print(\"Mean Accuracy: {:.2f}%\".format(accs.mean()*100))\n",
    "# print(\"Standard Deviation: {:.2f}%\".format(accs.std()*100))"
   ]
  },
  {
   "cell_type": "markdown",
   "metadata": {
    "id": "vgAkd7HtAZeh"
   },
   "source": [
    "#### Grid Search for LightGBM"
   ]
  },
  {
   "cell_type": "code",
   "execution_count": null,
   "metadata": {
    "id": "2SMf3ZEMAZfI"
   },
   "outputs": [],
   "source": [
    "# from sklearn.model_selection import GridSearchCV\n",
    "# model = lightgbm.LGBMClassifier(verbose=0, random_state = my_random_state )\n",
    "# model.fit(X_train, y_train)\n",
    "# parameters = [{'num_leaves' : [31, 32, 33, 34], \\\n",
    "#                'learning_rate' : [0.01, 0.09, 0.095, 0.1],\n",
    "#                'n_estimators' : [100, 105, 110, 115] \\\n",
    "#                }]\n",
    "# grid = GridSearchCV(estimator=model,\n",
    "#                     param_grid=parameters,\n",
    "#                     scoring='accuracy',\n",
    "#                     cv=skf)\n",
    "# grid.fit(X_train, y_train)\n",
    "# best_parameters = grid.best_params_\n",
    "# print(\"Best Score(Accuracy) : {:.2f}%\".format(grid.best_score_*100))\n",
    "# print(\"Best Parameters :\", best_parameters)"
   ]
  },
  {
   "cell_type": "markdown",
   "metadata": {
    "id": "Dw39p3_cAZfJ"
   },
   "source": [
    "Find new parameters\n",
    "\n",
    "\n",
    "```\n",
    "Parameters: learning_rate=0.08, n_estimators=110, num_leaves=29\n",
    "```\n",
    "\n"
   ]
  },
  {
   "cell_type": "markdown",
   "metadata": {
    "id": "na87wnG3AZfK"
   },
   "source": [
    "#### Rerun test set accuracy"
   ]
  },
  {
   "cell_type": "code",
   "execution_count": null,
   "metadata": {
    "id": "XQFV8QcuAZfL"
   },
   "outputs": [],
   "source": [
    "# model = lightgbm.LGBMClassifier(num_leaves = best_parameters['num_leaves'], \\\n",
    "#                       learning_rate = best_parameters['learning_rate'], \\\n",
    "#                       n_estimators= best_parameters['n_estimators'],\n",
    "#                       verbose=0)\n",
    "# model.fit(X_train, y_train)\n",
    "# y_pred = model.predict(X_test)\n",
    "# accuracy = accuracy_score(y_test, y_pred)\n",
    "# print(\"Accuracy: {:.2f}%\".format(accuracy*100))\n",
    "# accs = cross_val_score(estimator = model, X = X, y = y, cv=skf, scoring='accuracy')\n",
    "# print(\"Mean Accuracy: {:.2f}%\".format(accs.mean()*100))\n",
    "# print(\"Standard Deviation: {:.2f}%\".format(accs.std()*100))"
   ]
  }
 ],
 "metadata": {
  "colab": {
   "provenance": [],
   "toc_visible": true
  },
  "kernelspec": {
   "display_name": "Python 3 (ipykernel)",
   "language": "python",
   "name": "python3"
  },
  "language_info": {
   "codemirror_mode": {
    "name": "ipython",
    "version": 3
   },
   "file_extension": ".py",
   "mimetype": "text/x-python",
   "name": "python",
   "nbconvert_exporter": "python",
   "pygments_lexer": "ipython3",
   "version": "3.10.12"
  }
 },
 "nbformat": 4,
 "nbformat_minor": 4
}
